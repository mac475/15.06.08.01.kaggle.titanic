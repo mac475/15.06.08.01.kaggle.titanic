{
 "cells": [
  {
   "cell_type": "markdown",
   "metadata": {},
   "source": [
    "#Titanic"
   ]
  },
  {
   "cell_type": "code",
   "execution_count": 1,
   "metadata": {
    "collapsed": false
   },
   "outputs": [
    {
     "data": {
      "text/html": [
       "<style>\n",
       "    @font-face {\n",
       "        font-family: \"Computer Modern\", \"malgun gothic\";\n",
       "        src: url('http://mirrors.ctan.org/fonts/cm-unicode/fonts/otf/cmunss.otf');\n",
       "    }\n",
       "//    div.cell{\n",
       "//        width: 100%;\n",
       "//    }\n",
       "    // 아래의 div.container는 내가 임의로 추가한 style임\n",
       "//    div.container{\n",
       "//        width: 105%;\n",
       "//    }\n",
       "    ul {\n",
       "        line-height: 100%;\n",
       "        font-size: 100%;\n",
       "    }\n",
       "    li {\n",
       "        margin-bottom: 0.5em;\n",
       "    }\n",
       "    h1 {\n",
       "        font-family: Helvetica, serif, \"malgun gothic\";\n",
       "    }\n",
       "    h4{\n",
       "        margin-top: 12px;\n",
       "//        margin-bottom: 3px;\n",
       "       }\n",
       "    div.text_cell_render{\n",
       "//        font-family: Computer Modern, \"Helvetica Neue\", Arial, Helvetica, Geneva, sans-serif;\n",
       "        font-family: malgun gothic;\n",
       "        line-height: 140%;\n",
       "//        font-size: 100%;\n",
       "//        width: 100%;\n",
       "//        margin-left:auto;\n",
       "//        margin-right:auto;\n",
       "    }\n",
       "    .CodeMirror{\n",
       "            font-family: \"Source Code Pro\", source-code-pro,Consolas, monospace;\n",
       "    }\n",
       "/*    .prompt{\n",
       "        display: None;\n",
       "    }*/\n",
       "    .text_cell_render h5 {\n",
       "        font-family: malgun gothic;\n",
       "        font-weight: 300;\n",
       "        font-size: 16pt;\n",
       "        color: #4057A1;\n",
       "        font-style: italic;\n",
       "        margin-bottom: 0.5em;\n",
       "        margin-top: 0.5em;\n",
       "        display: block;\n",
       "    }\n",
       "    .warning{\n",
       "        color: rgb( 240, 20, 20 )\n",
       "        }\n",
       "</style>\n",
       "<script>\n",
       "    MathJax.Hub.Config({\n",
       "                        TeX: {\n",
       "                           extensions: [\"AMSmath.js\"]\n",
       "                           },\n",
       "                tex2jax: {\n",
       "                    inlineMath: [ ['$','$'], [\"\\\\(\",\"\\\\)\"] ],\n",
       "                    displayMath: [ ['$$','$$'], [\"\\\\[\",\"\\\\]\"] ]\n",
       "                },\n",
       "                displayAlign: 'center', // Change this to 'center' to center equations.\n",
       "//                \"HTML-CSS\": {\n",
       "//                    styles: {'.MathJax_Display': {\"margin\": 4}}\n",
       "//                }\n",
       "        });\n",
       "</script>"
      ],
      "text/plain": [
       "<IPython.core.display.HTML object>"
      ]
     },
     "execution_count": 1,
     "metadata": {},
     "output_type": "execute_result"
    }
   ],
   "source": [
    "# mac475의 ipython 표준 style을 적용함\n",
    "from IPython.core.display import HTML\n",
    "styles = open(\"../styles/custom.css\", \"r\").read()\n",
    "HTML( styles )"
   ]
  },
  {
   "cell_type": "code",
   "execution_count": 2,
   "metadata": {
    "collapsed": false
   },
   "outputs": [],
   "source": [
    "# -*- coding: utf-8-*-\n",
    "import pandas as pd\n",
    "import numpy as np\n",
    "\n",
    "# data를 확보한다.\n",
    "df = pd.read_csv( './dataset/train.csv' )    # data를 읽어들인다."
   ]
  },
  {
   "cell_type": "markdown",
   "metadata": {
    "collapsed": false
   },
   "source": [
    "대부분의 feature들은 문제없어 보이나, Age는 일부 누락, Cabin은 누락이 많아 보인다."
   ]
  },
  {
   "cell_type": "code",
   "execution_count": 3,
   "metadata": {
    "collapsed": false
   },
   "outputs": [
    {
     "name": "stdout",
     "output_type": "stream",
     "text": [
      "Age의 누락개수 :  177\n"
     ]
    }
   ],
   "source": [
    "df_age_isNaN = df[ df[ 'Age' ].isnull() ]    # Age가 NaN인 data를 별도로 확인한다. isnull()은 numeric의 경우 NaN을 찾을 수 있다.\n",
    "df_age_is0 = df[ df[ 'Age' ] == 0 ]    # 혹시나, Age == 0를 찾아보니 없다.\n",
    "print( 'Age의 누락개수 : ', df_age_isNaN[ 'PassengerId' ].size )"
   ]
  },
  {
   "cell_type": "code",
   "execution_count": 4,
   "metadata": {
    "collapsed": false
   },
   "outputs": [
    {
     "name": "stdout",
     "output_type": "stream",
     "text": [
      "Cabin의 누락개수 :  687\n"
     ]
    }
   ],
   "source": [
    "df_cabin_isNone = df[ df[ 'Cabin' ].isnull() ]    # Cabin이 None인 data를 별도로 확인한다.\n",
    "print( 'Cabin의 누락개수 : ', df_cabin_isNone[ 'PassengerId' ].size )    # Cabin은 누락이 상당히 많다."
   ]
  },
  {
   "cell_type": "markdown",
   "metadata": {},
   "source": [
    "Embarked도 2건의 누락이 있다"
   ]
  },
  {
   "cell_type": "code",
   "execution_count": 5,
   "metadata": {
    "collapsed": false
   },
   "outputs": [],
   "source": [
    "df_embarked_isNone = df[ df[ 'Embarked' ].isnull() ]    # Embarked가 None인 것들"
   ]
  },
  {
   "cell_type": "markdown",
   "metadata": {},
   "source": [
    "두 승객 모두 생존했고, 1등급이고, 여성이며, Fare = 80이다"
   ]
  },
  {
   "cell_type": "markdown",
   "metadata": {},
   "source": [
    "Embarked는 다음과 같은 의미로 승객의 승선지를 제공한다.\n",
    "\n",
    "Port of Embarkation (S = Southampton, C = Cherbourg, Q = Queenstown)\n",
    "\n",
    "Titanic의 경로에 대한 참고정보 ['http://www.gma.org/space1/titanic.html']"
   ]
  },
  {
   "cell_type": "markdown",
   "metadata": {},
   "source": [
    "따라서, Embarked가 누락된 2개 승객은 B28 Cabin을 사용하였으며, 아마도 Southampton에서 승선했으리라고 판단가능하다.\n",
    "\n",
    "Embarked 누락분 2개는 'S' 값을 부여하기로 한다."
   ]
  },
  {
   "cell_type": "code",
   "execution_count": 6,
   "metadata": {
    "collapsed": false
   },
   "outputs": [],
   "source": [
    "df[ 'Embarked' ].fillna( value = 'S', inplace = True )    # Embarked == null을 S로 대체"
   ]
  },
  {
   "cell_type": "markdown",
   "metadata": {},
   "source": [
    "Age에 여전히 누락이 많다.\n",
    "Age를 살펴본다."
   ]
  },
  {
   "cell_type": "code",
   "execution_count": 7,
   "metadata": {
    "collapsed": false
   },
   "outputs": [
    {
     "data": {
      "text/plain": [
       "<matplotlib.text.Text at 0x9bd5fd0>"
      ]
     },
     "execution_count": 7,
     "metadata": {},
     "output_type": "execute_result"
    },
    {
     "data": {
      "image/png": "[encoded data removed]",
      "text/plain": [
       "<matplotlib.figure.Figure at 0x8eea2b0>"
      ]
     },
     "metadata": {},
     "output_type": "display_data"
    }
   ],
   "source": [
    "import matplotlib.pyplot as plt\n",
    "%matplotlib inline\n",
    "\n",
    "alpha_val = 0.55\n",
    "\n",
    "sz_age = df[ df[ 'Age' ].notnull() ][ 'Age' ]    # Age만 별도 추출\n",
    "    \n",
    "fig_age = plt.figure( figsize = (7,4) )    # fig size 정의\n",
    "ax_age = plt.subplot2grid( (1,1), (0,0) )    # 표현 data\n",
    "plt.hist( x = sz_age, normed = False, facecolor = 'green', alpha = alpha_val )    # hist 설정\n",
    "plt.xlabel( 'Age' ); plt.ylabel( 'Count' ); plt.title( 'Ages' )"
   ]
  },
  {
   "cell_type": "markdown",
   "metadata": {},
   "source": [
    "##<font color='red'>Training dataset에서 크게 누락발생되는 Age를 복원하기 위한 다양한 Case가 존재</font>"
   ]
  },
  {
   "cell_type": "code",
   "execution_count": 8,
   "metadata": {
    "collapsed": false
   },
   "outputs": [],
   "source": [
    "df_test = pd.read_csv( './dataset/test.csv' )    # data를 읽어들인다.\n",
    "\n",
    "# Case 1 : Trainig/ Test를 누락값 보완으로 활용\n",
    "mean_age_sub0 = ( df[ 'Age' ][ df[ 'SibSp' ] == 0 ].mean() + df_test[ 'Age' ][ df_test[ 'SibSp' ] == 0 ].mean() )/2.0\n",
    "mean_age_sub1 = ( df[ 'Age' ][ df[ 'SibSp' ] == 1 ].mean() + df_test[ 'Age' ][ df_test[ 'SibSp' ] == 1 ].mean() )/2.0\n",
    "mean_age_sub2 = ( df[ 'Age' ][ df[ 'SibSp' ] == 2 ].mean() + df_test[ 'Age' ][ df_test[ 'SibSp' ] == 2 ].mean() )/2.0\n",
    "mean_age_sub3 = ( df[ 'Age' ][ df[ 'SibSp' ] == 3 ].mean() + df_test[ 'Age' ][ df_test[ 'SibSp' ] == 3 ].mean() )/2.0\n",
    "mean_age_sub4 = ( df[ 'Age' ][ df[ 'SibSp' ] == 4 ].mean() + df_test[ 'Age' ][ df_test[ 'SibSp' ] == 4 ].mean() )/2.0\n",
    "mean_age_sub5 = ( df[ 'Age' ][ df[ 'SibSp' ] == 5 ].mean() + df_test[ 'Age' ][ df_test[ 'SibSp' ] == 5 ].mean() )/2.0\n",
    "mean_age_sub8 = df_test[ 'Age' ][ df_test[ 'SibSp' ] == 8 ].mean()"
   ]
  },
  {
   "cell_type": "markdown",
   "metadata": {},
   "source": [
    "##Training data에서 Age를 보완하기 위해, SibSp Case별로 판단하여 복원"
   ]
  },
  {
   "cell_type": "code",
   "execution_count": 9,
   "metadata": {
    "collapsed": false
   },
   "outputs": [],
   "source": [
    "df[ 'Age' ].fillna( value = df[ 'Age' ].mean(), inplace = True )    # 누락된 Age에 평균 mean값 부여"
   ]
  },
  {
   "cell_type": "markdown",
   "metadata": {},
   "source": [
    "Cabin은 누락도 상당히 많고, 객실번호를 통해 모델링이 가능할 것으로 볼 수 없다고 생각했으나,\n",
    "\n",
    "누락분에 대해서는 CabinX로 일단 처리해두고, 이후에 labeling하여 분석모델에 feature로 참여시킨다\n",
    "\n",
    "분석가능하지 않다고 판단되므로 제외한다."
   ]
  },
  {
   "cell_type": "code",
   "execution_count": 10,
   "metadata": {
    "collapsed": false
   },
   "outputs": [],
   "source": [
    "df[ 'Cabin' ].fillna( value = 'cabin_X', inplace = True )"
   ]
  },
  {
   "cell_type": "markdown",
   "metadata": {},
   "source": [
    "##3. Train data에 대한 탐색\n",
    "###여기까지 기본적인 Cleansing 작업을 진행했다.\n",
    "###이제, 각 Feature 측면을 확인해본다."
   ]
  },
  {
   "cell_type": "code",
   "execution_count": 11,
   "metadata": {
    "collapsed": false
   },
   "outputs": [
    {
     "data": {
      "text/plain": [
       "<matplotlib.figure.Figure at 0x8eea0b8>"
      ]
     },
     "metadata": {},
     "output_type": "display_data"
    }
   ],
   "source": [
    "fig_survived_summary = plt.figure( figsize = (16.5,4) )    # fig size 정의"
   ]
  },
  {
   "cell_type": "code",
   "execution_count": 12,
   "metadata": {
    "collapsed": false
   },
   "outputs": [],
   "source": [
    "df[ 'Name' ] = df[ 'Name' ].str.split( ',' ).str[0]    # "
   ]
  },
  {
   "cell_type": "code",
   "execution_count": 13,
   "metadata": {
    "collapsed": false
   },
   "outputs": [],
   "source": [
    "df.drop( [ 'PassengerId' ], axis = 1, inplace = True )    # PassengerId feature를 drop"
   ]
  },
  {
   "cell_type": "code",
   "execution_count": 14,
   "metadata": {
    "collapsed": false
   },
   "outputs": [],
   "source": [
    "sz_passender_id = df_test[ 'PassengerId' ]    # 답안제출 제공형식에는 PassenderId별 Survived가 제공되어야 하므로, 이를 백업\n",
    "\n",
    "df_test.drop( [ 'PassengerId' ], axis = 1, inplace = True )\n",
    "df_test[ 'Name' ] = df_test[ 'Name' ].str.split( ',' ).str[0]"
   ]
  },
  {
   "cell_type": "markdown",
   "metadata": {},
   "source": [
    "###Categorical data의 Label Encoding 수행"
   ]
  },
  {
   "cell_type": "code",
   "execution_count": 15,
   "metadata": {
    "collapsed": true
   },
   "outputs": [],
   "source": [
    "df_test[ 'Cabin' ].fillna( 'cabin_X', inplace = True )"
   ]
  },
  {
   "cell_type": "code",
   "execution_count": 16,
   "metadata": {
    "collapsed": false
   },
   "outputs": [
    {
     "data": {
      "text/html": [
       "<div style=\"max-height:1000px;max-width:1500px;overflow:auto;\">\n",
       "<table border=\"1\" class=\"dataframe\">\n",
       "  <thead>\n",
       "    <tr style=\"text-align: right;\">\n",
       "      <th></th>\n",
       "      <th>Pclass</th>\n",
       "      <th>Name</th>\n",
       "      <th>Sex</th>\n",
       "      <th>Age</th>\n",
       "      <th>SibSp</th>\n",
       "      <th>Parch</th>\n",
       "      <th>Ticket</th>\n",
       "      <th>Fare</th>\n",
       "      <th>Cabin</th>\n",
       "      <th>Embarked</th>\n",
       "    </tr>\n",
       "  </thead>\n",
       "  <tbody>\n",
       "    <tr>\n",
       "      <th>0</th>\n",
       "      <td> 3</td>\n",
       "      <td> 172</td>\n",
       "      <td> 1</td>\n",
       "      <td> 34.5</td>\n",
       "      <td> 0</td>\n",
       "      <td> 0</td>\n",
       "      <td> 152</td>\n",
       "      <td>  7.8292</td>\n",
       "      <td> 76</td>\n",
       "      <td> 1</td>\n",
       "    </tr>\n",
       "    <tr>\n",
       "      <th>1</th>\n",
       "      <td> 3</td>\n",
       "      <td> 339</td>\n",
       "      <td> 0</td>\n",
       "      <td> 47.0</td>\n",
       "      <td> 1</td>\n",
       "      <td> 0</td>\n",
       "      <td> 221</td>\n",
       "      <td>  7.0000</td>\n",
       "      <td> 76</td>\n",
       "      <td> 2</td>\n",
       "    </tr>\n",
       "    <tr>\n",
       "      <th>2</th>\n",
       "      <td> 2</td>\n",
       "      <td> 231</td>\n",
       "      <td> 1</td>\n",
       "      <td> 62.0</td>\n",
       "      <td> 0</td>\n",
       "      <td> 0</td>\n",
       "      <td>  73</td>\n",
       "      <td>  9.6875</td>\n",
       "      <td> 76</td>\n",
       "      <td> 1</td>\n",
       "    </tr>\n",
       "    <tr>\n",
       "      <th>3</th>\n",
       "      <td> 3</td>\n",
       "      <td> 344</td>\n",
       "      <td> 1</td>\n",
       "      <td> 27.0</td>\n",
       "      <td> 0</td>\n",
       "      <td> 0</td>\n",
       "      <td> 147</td>\n",
       "      <td>  8.6625</td>\n",
       "      <td> 76</td>\n",
       "      <td> 2</td>\n",
       "    </tr>\n",
       "    <tr>\n",
       "      <th>4</th>\n",
       "      <td> 3</td>\n",
       "      <td> 150</td>\n",
       "      <td> 0</td>\n",
       "      <td> 22.0</td>\n",
       "      <td> 1</td>\n",
       "      <td> 1</td>\n",
       "      <td> 138</td>\n",
       "      <td> 12.2875</td>\n",
       "      <td> 76</td>\n",
       "      <td> 2</td>\n",
       "    </tr>\n",
       "  </tbody>\n",
       "</table>\n",
       "</div>"
      ],
      "text/plain": [
       "   Pclass  Name  Sex   Age  SibSp  Parch  Ticket     Fare  Cabin  Embarked\n",
       "0       3   172    1  34.5      0      0     152   7.8292     76         1\n",
       "1       3   339    0  47.0      1      0     221   7.0000     76         2\n",
       "2       2   231    1  62.0      0      0      73   9.6875     76         1\n",
       "3       3   344    1  27.0      0      0     147   8.6625     76         2\n",
       "4       3   150    0  22.0      1      1     138  12.2875     76         2"
      ]
     },
     "execution_count": 16,
     "metadata": {},
     "output_type": "execute_result"
    }
   ],
   "source": [
    "from sklearn import preprocessing\n",
    "\n",
    "# Name : 이름정보 변경\n",
    "le_name = preprocessing.LabelEncoder()    # Name 정보를 위한, label Encoder 생성\n",
    "df[ 'Name' ] = le_name.fit_transform( df[ 'Name' ] )    # le를 fit/ transforming\n",
    "df_test[ 'Name' ] = le_name.fit_transform( df_test[ 'Name' ] )    # le를 fit/ transforming\n",
    "\n",
    "# Sex : 성별정보 변경\n",
    "le_sex = preprocessing.LabelEncoder()    # Sex 정보를 위한, label Encoder 생성\n",
    "df[ 'Sex' ] = le_sex.fit_transform( df[ 'Sex' ] )    # le를 fit/ transforming\n",
    "df_test[ 'Sex' ] = le_sex.fit_transform( df_test[ 'Sex' ] )    # le를 fit/ transforming\n",
    "\n",
    "# Ticket : Ticket정보 변경\n",
    "le_ticket = preprocessing.LabelEncoder()    # Ticket 정보를 위한, Label Encoder 생성\n",
    "df[ 'Ticket' ] = le_ticket.fit_transform( df[ 'Ticket' ] )    # le를 fit/ transforming\n",
    "df_test[ 'Ticket' ] = le_ticket.fit_transform( df_test[ 'Ticket' ] )    # le를 fit/ transforming\n",
    "\n",
    "# Cabin : Cabin정보 변경\n",
    "le_cabin = preprocessing.LabelEncoder()    # Cabin 정보를 위한, Label Encoder 생성\n",
    "df[ 'Cabin' ] = le_cabin.fit_transform( df[ 'Cabin' ] )    # le를 fit/ transforming\n",
    "df_test[ 'Cabin' ] = le_cabin.fit_transform( df_test[ 'Cabin' ] )    # le를 fit/ transforming\n",
    "\n",
    "# Embarked : 승선지정보 변경\n",
    "le_embarked = preprocessing.LabelEncoder()    # Embarked 정보를 위한, Label Encoder 생성\n",
    "df[ 'Embarked' ] = le_embarked.fit_transform( df[ 'Embarked' ] )    # le를 fit/ transforming\n",
    "df_test[ 'Embarked' ] = le_embarked.fit_transform( df_test[ 'Embarked' ] )    # le를 fit/ transforming\n",
    "\n",
    "df.head()\n",
    "df_test.head()"
   ]
  },
  {
   "cell_type": "markdown",
   "metadata": {},
   "source": [
    "##<font color = 'red'>**누락값을 항상 채워둔다**</font>\n",
    "\n",
    "###Fare 누락값 처리\n",
    "Fare에 누락이 있으므로, 이를 처리해야 한다.\n",
    "\n",
    "Fare는 1개 누락이므로, Fare 누락값을 처리하기 위해 Training + test data를 통해 추정.\n",
    "\n",
    "그 전에, 우선 각 Embarked별로 Pclass와 Fare간의 상관관계를 보자."
   ]
  },
  {
   "cell_type": "code",
   "execution_count": 17,
   "metadata": {
    "collapsed": false
   },
   "outputs": [],
   "source": [
    "# test set내 1개 fare값을 보완하기 위한 \n",
    "mean_fare_train = df[ 'Fare' ][ ( df[ 'Pclass' ] == 3 ) & ( df[ 'Embarked' ] == 0 ) &\n",
    "                                ( df[ 'SibSp' ] == 0 ) & ( df[ 'Parch' ] == 0 ) ].mean()\n",
    "mean_fare_test = df_test[ 'Fare' ][ ( df_test[ 'Pclass' ] == 3 ) & ( df_test[ 'Embarked' ] == 0 ) &\n",
    "                                    ( df_test[ 'SibSp' ] == 0 ) & ( df_test[ 'Parch' ] == 0 ) ].mean()\n",
    "mean_fare = (mean_fare_train + mean_fare_test)/2.0\n",
    "idx = df_test[ df_test[ 'Fare' ].isnull() ].index.tolist()    # Fare == NaN인 dataset의 idx 정보\n",
    "df_test.loc[ idx, 'Fare' ] = mean_fare    # 결측값 보완"
   ]
  },
  {
   "cell_type": "markdown",
   "metadata": {},
   "source": [
    "###Age 누락값 처리\n",
    "* 1건의 Fare 누락분은 채워넣었고, Age를 처리해야 한다. 추측컨데, 좌석등급 혹은 Embarked와 관련성 있는지 확인해본다."
   ]
  },
  {
   "cell_type": "markdown",
   "metadata": {},
   "source": [
    "* 단언은 곤란하나, 연령대가 높아짐에 따라 좌석등급은 높아지는 정도가 확인된다. 하지만, 60대 3등급은 희박하고, 10대 1등급도 희박하다.\n",
    "* 나이분포의 특이성은 SibSp와 관련성이 있어 보이므로, SibSp별 mean Age를 확보하여 누락 Age에 채우도록 한다.\n",
    "* 하지만, 각 좌석등급별 평균나이를 채우려면 귀찮으니, 전체 평균을 누락된 Age에 채우도록 한다.\n",
    "* Fare 비용이 높은 경우, 생존률이 높아보인다"
   ]
  },
  {
   "cell_type": "code",
   "execution_count": 18,
   "metadata": {
    "collapsed": true
   },
   "outputs": [],
   "source": [
    "df[ 'Fare' ] = df[ 'Fare' ]/( df[ 'SibSp' ] + df[ 'Parch' ] + 1 )    # 인당 Fare로 변환하여 사용한다.\n",
    "df_test[ 'Fare' ] = df_test[ 'Fare' ]/( df_test[ 'SibSp' ] + df_test[ 'Parch' ] + 1 )    # 인당 Fare로 변환하여 사용한다."
   ]
  },
  {
   "cell_type": "code",
   "execution_count": 19,
   "metadata": {
    "collapsed": false
   },
   "outputs": [],
   "source": [
    "df_test[ 'Age' ].fillna( value = df_test[ 'Age' ].mean(), inplace = True )    # 누락된 Age에 평균 mean값 부여\n"
   ]
  },
  {
   "cell_type": "markdown",
   "metadata": {},
   "source": [
    "Train, Test data의 SibSp, Parch가 존재하는 경우, SibSp를 가족승객 여부로 활용한다"
   ]
  },
  {
   "cell_type": "markdown",
   "metadata": {},
   "source": [
    "###<font color='blue'>Test dataset에 대한 누락분은 모두 해결했다</font>"
   ]
  },
  {
   "cell_type": "markdown",
   "metadata": {},
   "source": [
    "###Training dataset과 실제 dataset의 구조가 동일한지 확인하는 validation code"
   ]
  },
  {
   "cell_type": "markdown",
   "metadata": {},
   "source": [
    "##6. Predict modeling"
   ]
  },
  {
   "cell_type": "markdown",
   "metadata": {},
   "source": [
    "###Training dataset을 X와 y로 분리"
   ]
  },
  {
   "cell_type": "markdown",
   "metadata": {},
   "source": [
    "##<font color='red'>Training시 사용할 Feature 선별의 Case들</font>"
   ]
  },
  {
   "cell_type": "code",
   "execution_count": 20,
   "metadata": {
    "collapsed": false
   },
   "outputs": [],
   "source": [
    "list_for_drop = [\n",
    "#                   'Name',\n",
    "#                   'Age',\n",
    "#                   'SibSp',\n",
    "#                   'Parch',\n",
    "#                   'Ticket',\n",
    "#                   'Fare',\n",
    "                  'Cabin',\n",
    "#                   'Embarked'\n",
    "                ]    # training, test 모두에게서 drop features\n",
    "list_for_train = list( list_for_drop )\n",
    "list_for_test = list( list_for_drop )\n",
    "\n",
    "list_for_train.append( 'Survived' )\n",
    "# list_for_test.append( 'Cabin' )\n",
    "\n",
    "X = df.drop( list_for_train, axis = 1 )    # X를 확보\n",
    "y = df[ 'Survived' ]    # y를 확보\n",
    "\n",
    "cv_cnt = 30\n",
    "n_jobs_cnt = 8"
   ]
  },
  {
   "cell_type": "code",
   "execution_count": 21,
   "metadata": {
    "collapsed": false
   },
   "outputs": [],
   "source": [
    "# X.head( 3 )\n",
    "n_jobs_cnt = 8"
   ]
  },
  {
   "cell_type": "markdown",
   "metadata": {},
   "source": [
    "##0. Decision Tree 수행"
   ]
  },
  {
   "cell_type": "code",
   "execution_count": 22,
   "metadata": {
    "collapsed": false,
    "scrolled": true
   },
   "outputs": [
    {
     "name": "stdout",
     "output_type": "stream",
     "text": [
      "0.820426487093\n",
      "Wall time: 9.87 s\n"
     ]
    }
   ],
   "source": [
    "%%time\n",
    "from sklearn import cross_validation\n",
    "from sklearn.cross_validation import train_test_split\n",
    "from sklearn import metrics\n",
    "from sklearn.tree import DecisionTreeClassifier\n",
    "from sklearn import grid_search\n",
    "\n",
    "params = {\n",
    "           'criterion' : ('gini','entropy'),\n",
    "           'splitter' : ('best', 'random'),\n",
    "           'max_depth' : (7,10,20),\n",
    "           'min_samples_split' : (2,4,8),\n",
    "           'random_state' : (1,2,3),\n",
    "         }\n",
    "gs = grid_search.GridSearchCV( DecisionTreeClassifier( class_weight = 'auto' ),\n",
    "                               param_grid = params, n_jobs = n_jobs_cnt, cv = cv_cnt,\n",
    "                               \n",
    "                             )    # GridSearch 생성\n",
    "gs.fit( X, y )    # fitting\n",
    "\n",
    "#                   'SibSp',\n",
    "#                   'Parch',\n",
    "#                   'Ticket',\n",
    "#                   'Fare',\n",
    "\n",
    "print( gs.best_score_ )\n",
    "# gs.grid_scores_"
   ]
  },
  {
   "cell_type": "markdown",
   "metadata": {},
   "source": [
    "###1. LinearSVC 수행 : 최적 C값 적용 : cross-validation 활용"
   ]
  },
  {
   "cell_type": "code",
   "execution_count": 23,
   "metadata": {
    "collapsed": false
   },
   "outputs": [],
   "source": [
    "# from sklearn import svm\n",
    "# from sklearn import cross_validation\n",
    "\n",
    "# params = { 'C' : (0.1, 0.5, 1.0, 1.5, 2.0) }\n",
    "\n",
    "# gs = grid_search.GridSearchCV( svm.LinearSVC(), param_grid = params, n_jobs = n_jobs_cnt, cv = cv_cnt )    # GridSearch 생성\n",
    "# gs.fit( X, y )    # fitting\n",
    "\n",
    "# print( gs.best_score_ )\n",
    "# # gs.grid_scores_"
   ]
  },
  {
   "cell_type": "markdown",
   "metadata": {},
   "source": [
    "###3. KNN 수행 : 최적 neighbor수, weight값 활용"
   ]
  },
  {
   "cell_type": "code",
   "execution_count": 24,
   "metadata": {
    "collapsed": false,
    "scrolled": true
   },
   "outputs": [],
   "source": [
    "# from sklearn.neighbors import KNeighborsClassifier\n",
    "\n",
    "# params = { 'n_neighbors' : (1, 3, 5, 7, 10), 'weights' : ('uniform', 'distance') }\n",
    "\n",
    "# gs = grid_search.GridSearchCV( KNeighborsClassifier(), param_grid = params, n_jobs = n_jobs_cnt, cv = cv_cnt )    # GridSearch 생성\n",
    "# gs.fit( X, y )    # fitting\n",
    "\n",
    "# print( gs.best_score_ )\n",
    "# # gs.grid_scores_"
   ]
  },
  {
   "cell_type": "markdown",
   "metadata": {},
   "source": [
    "###4. Ensemble 수행 : RandomForestClassifier"
   ]
  },
  {
   "cell_type": "code",
   "execution_count": 25,
   "metadata": {
    "collapsed": false,
    "scrolled": false
   },
   "outputs": [],
   "source": [
    "# %%time\n",
    "# # 0.841750841751 확보 parameter set grid\n",
    "# from sklearn.ensemble import RandomForestClassifier\n",
    "\n",
    "# params = { \n",
    "#            'n_estimators' : (15,20),\n",
    "#            'criterion' : ('gini','entropy'),\n",
    "# #            'max_features' : ('auto','sqrt',None),\n",
    "#            'max_depth' : (3,5,9,11,None),\n",
    "#            'min_samples_split' : (3,5,7),\n",
    "# #            'min_samples_leaf' : (1,3,5),\n",
    "# #            'min_weight_fraction_leaf' : (0.0,0.3,0.5),\n",
    "#            'bootstrap' : (True, False),\n",
    "#            'random_state' : (1,2,3,4),\n",
    "# #            'warm_start' : (True,False)\n",
    "#          }\n",
    "\n",
    "# gs = grid_search.GridSearchCV( RandomForestClassifier( n_estimators = 100, class_weight = 'auto' ),\n",
    "#                                param_grid = params, n_jobs = n_jobs_cnt, cv = cv_cnt )    # GridSearch 생성\n",
    "# gs.fit( X, y )    # fitting\n",
    "\n",
    "# print( gs.best_score_ )\n",
    "# # gs.grid_scores_"
   ]
  },
  {
   "cell_type": "markdown",
   "metadata": {},
   "source": [
    "###5. LogisticRegression 수행"
   ]
  },
  {
   "cell_type": "code",
   "execution_count": 26,
   "metadata": {
    "collapsed": false
   },
   "outputs": [],
   "source": [
    "# from sklearn.linear_model import LogisticRegression\n",
    "\n",
    "# params = { 'C' : (.1,.3,.5,.7,1.0) }\n",
    "# gs = grid_search.GridSearchCV( LogisticRegression(), param_grid = params, cv = cv_cnt )    # GridSearch 생성\n",
    "# gs.fit( X, y )    # fitting\n",
    "\n",
    "# print gs.best_score_\n",
    "# # gs.grid_scores_"
   ]
  },
  {
   "cell_type": "markdown",
   "metadata": {},
   "source": [
    "##6. AdaBoostClassifier 수행"
   ]
  },
  {
   "cell_type": "code",
   "execution_count": 27,
   "metadata": {
    "collapsed": false
   },
   "outputs": [],
   "source": [
    "# from sklearn.ensemble import AdaBoostClassifier\n",
    "\n",
    "# params = { 'n_estimators' : (10,30,50,100) }\n",
    "# gs = grid_search.GridSearchCV( AdaBoostClassifier(), param_grid = params, cv = cv_cnt )    # GridSearch 생성\n",
    "# gs.fit( X, y )    # fitting\n",
    "\n",
    "# print gs.best_score_\n",
    "# # gs.grid_scores_"
   ]
  },
  {
   "cell_type": "markdown",
   "metadata": {},
   "source": [
    "##7. BaggingClassifier 수행"
   ]
  },
  {
   "cell_type": "code",
   "execution_count": 28,
   "metadata": {
    "collapsed": false,
    "scrolled": false
   },
   "outputs": [],
   "source": [
    "# from sklearn.ensemble import BaggingClassifier\n",
    "\n",
    "# params = { 'n_estimators' : (1,3,5,10,20,30,500), 'max_samples' : (20,30,40) }\n",
    "# gs = grid_search.GridSearchCV( BaggingClassifier(), param_grid = params, cv = cv_cnt )    # GridSearch 생성\n",
    "# gs.fit( X, y )    # fitting\n",
    "\n",
    "# print gs.best_score_\n",
    "# # gs.grid_scores_\n",
    "# # gs"
   ]
  },
  {
   "cell_type": "markdown",
   "metadata": {},
   "source": [
    "###6. 실제 prediction을 수행한다."
   ]
  },
  {
   "cell_type": "code",
   "execution_count": 29,
   "metadata": {
    "collapsed": false
   },
   "outputs": [],
   "source": [
    "# X.head(1)"
   ]
  },
  {
   "cell_type": "code",
   "execution_count": 30,
   "metadata": {
    "collapsed": false
   },
   "outputs": [],
   "source": [
    "# df_test.head( 3 )"
   ]
  },
  {
   "cell_type": "code",
   "execution_count": 31,
   "metadata": {
    "collapsed": false
   },
   "outputs": [],
   "source": [
    "# df_test.drop( [ 'SibSp', 'Parch', 'Embarked' ], axis = 1, inplace = True )\n",
    "# df_test.drop( [ 'SibSp', 'Parch', 'Age' ], axis = 1, inplace = True )\n",
    "df_test.drop( list_for_test, axis = 1, inplace = True )"
   ]
  },
  {
   "cell_type": "code",
   "execution_count": 32,
   "metadata": {
    "collapsed": false
   },
   "outputs": [
    {
     "data": {
      "text/html": [
       "<div style=\"max-height:1000px;max-width:1500px;overflow:auto;\">\n",
       "<table border=\"1\" class=\"dataframe\">\n",
       "  <thead>\n",
       "    <tr style=\"text-align: right;\">\n",
       "      <th></th>\n",
       "      <th>Pclass</th>\n",
       "      <th>Name</th>\n",
       "      <th>Sex</th>\n",
       "      <th>Age</th>\n",
       "      <th>SibSp</th>\n",
       "      <th>Parch</th>\n",
       "      <th>Ticket</th>\n",
       "      <th>Fare</th>\n",
       "      <th>Embarked</th>\n",
       "    </tr>\n",
       "  </thead>\n",
       "  <tbody>\n",
       "    <tr>\n",
       "      <th>0</th>\n",
       "      <td> 3</td>\n",
       "      <td> 172</td>\n",
       "      <td> 1</td>\n",
       "      <td> 34.5</td>\n",
       "      <td> 0</td>\n",
       "      <td> 0</td>\n",
       "      <td> 152</td>\n",
       "      <td> 7.8292</td>\n",
       "      <td> 1</td>\n",
       "    </tr>\n",
       "  </tbody>\n",
       "</table>\n",
       "</div>"
      ],
      "text/plain": [
       "   Pclass  Name  Sex   Age  SibSp  Parch  Ticket    Fare  Embarked\n",
       "0       3   172    1  34.5      0      0     152  7.8292         1"
      ]
     },
     "execution_count": 32,
     "metadata": {},
     "output_type": "execute_result"
    }
   ],
   "source": [
    "df_test.head(1)"
   ]
  },
  {
   "cell_type": "code",
   "execution_count": 33,
   "metadata": {
    "collapsed": false
   },
   "outputs": [],
   "source": [
    "# df_test.head( 1 )\n",
    "# gs.best_estimator_"
   ]
  },
  {
   "cell_type": "code",
   "execution_count": 34,
   "metadata": {
    "collapsed": false
   },
   "outputs": [],
   "source": [
    "# y_pred = gs.predict( df_test )    # decisionTreeClassifier인 경우 prediction 수행\n",
    "y_pred = gs.best_estimator_.predict( df_test )    # prediction 수행\n",
    "\n",
    "df_result = pd.DataFrame( sz_passender_id, columns = [ 'PassengerId' ] )    # 결과를 새로운 dataframe에 담는다\n",
    "df_result[ 'Survived' ] = y_pred\n",
    "df_result.to_csv( path_or_buf = 'result.csv', sep = ',', index = False )"
   ]
  },
  {
   "cell_type": "code",
   "execution_count": 35,
   "metadata": {
    "collapsed": false
   },
   "outputs": [],
   "source": [
    "# df = pd.read_csv( './dataset/test.csv' )    # data를 읽어들인다.\n",
    "# df[ 'Survived' ] = y_pred\n",
    "# df.to_csv( path_or_buf = 'check.csv', sep = ',', index = False )\n",
    "# # df_check.head()    # 대략적 내용을 파악한다."
   ]
  },
  {
   "cell_type": "markdown",
   "metadata": {},
   "source": [
    "##<font color='red'>7. prediction 결과를 분석한다 : 과연 training data와 유사한 결과를 보이는지</font>"
   ]
  },
  {
   "cell_type": "markdown",
   "metadata": {},
   "source": [
    "###이제, 각 Feature 측면을 확인해본다."
   ]
  },
  {
   "cell_type": "code",
   "execution_count": 36,
   "metadata": {
    "collapsed": false
   },
   "outputs": [],
   "source": [
    "# fig_survived_summary = plt.figure( figsize = (15,4) )    # fig size 정의\n",
    "\n",
    "# # Surveved의 기본확인\n",
    "# sz_survived_summary = df[ 'Survived' ].value_counts()    # Survived의 생존여부별로 groupby하여 결과수치를 확인한다.\n",
    "# sz_survived_summary_tweaked = sz_survived_summary.rename( index = { 0 : 'Die', 1 : 'Alive' } )    # index를 가시적으로 변경\n",
    "# ax_survived_summary = plt.subplot2grid( (1,5), (0,0) )    # 표현 data의 위치\n",
    "# sz_survived_summary_tweaked.plot( kind = 'bar', ax = ax_survived_summary, alpha = alpha_val )\n",
    "# plt.xlabel( 'Survived' ); plt.ylabel( 'Count' ); plt.title( 'Survived Count' )\n",
    "# print 'Survived Alive : ', sz_survived_summary.ix[ 1 ], 'Died : ', sz_survived_summary.ix[ 0 ], 'Alive % : ', np.float( sz_survived_summary.ix[1] )/np.float( sz_survived_summary.sum() )\n",
    "\n",
    "# # P Class의 기본확인\n",
    "# sz_pclass_summary = df[ 'Pclass' ].value_counts()    # Pclass를 groupby하여 결과수치를 확인한다.\n",
    "# sz_pclass_summary.rename( index = { 1 : '1st', 2 : '2nd', 3 : '3rd' }, inplace = True )\n",
    "# ax_pclass_summary = plt.subplot2grid( (1,5), (0,1) )    # 표현 data의 위치\n",
    "# sz_pclass_summary.sort_index( ascending = True ).plot( kind = 'bar', ax = ax_pclass_summary, alpha = alpha_val )\n",
    "# plt.xlabel( 'Ticket Class' ); plt.ylabel( 'Count' ); plt.title( 'Ticket Class Count' )\n",
    "# print 'Class 1st : ', sz_pclass_summary.ix[ '1st' ], '2nd : ', sz_pclass_summary.ix[ '2nd' ], '3rd : ', sz_pclass_summary.ix[ '3rd' ]\n",
    "\n",
    "# # Embarked의 기본확인\n",
    "# sz_embarked_summary = df[ 'Embarked' ].value_counts()    # Embarked 정보별로 groupby하여 결과수치를 확인한다.\n",
    "# sz_embarked_summary.rename( index = { 'C' : 'Cherbourg', 'Q' : 'Queenstown', 'S' : 'Southampton' }, inplace = True )\n",
    "# ax_embarked_summary = plt.subplot2grid( (1,5), (0,2) )    # 표현 data의 위치\n",
    "# sz_embarked_summary.plot( kind = 'bar', ax = ax_embarked_summary, alpha = alpha_val )\n",
    "# plt.xlabel( 'Embarked' ); plt.ylabel( 'Count' ); plt.title( 'Embarked Count' )\n",
    "# print 'Embarked Cherbourg : ', sz_embarked_summary.ix[ 'Cherbourg' ], 'Queenstown : ', sz_embarked_summary.ix[ 'Queenstown' ], 'Southampton : ', sz_embarked_summary.ix[ 'Southampton' ]\n",
    "\n",
    "# # Gender의 기본확인\n",
    "# sz_gender_summary = df[ 'Sex' ].value_counts()    # Sex 성별별로 groupby하여 결과수치를 확인한다.\n",
    "# ax_gender_summary = plt.subplot2grid( (1,5), (0,3) )    # 표현 data의 위치\n",
    "# sz_gender_summary.plot( kind = 'bar', ax = ax_gender_summary, alpha = alpha_val )\n",
    "# plt.xlabel( 'Sex' ); plt.ylabel( 'Count' ); plt.title( 'Sex Count' )\n",
    "# print 'Sex male : ', sz_gender_summary.ix[ 'male' ], 'female : ', sz_gender_summary.ix[ 'female' ]\n",
    "\n",
    "# # 연령대의 기본확인\n",
    "# sz_survived = df[ 'Survived' ]\n",
    "# sz_survived_tweaked = sz_survived.replace( to_replace = { 0 : 'Die', 1 : 'Alive' } )\n",
    "# sz_age = df[ 'Age' ]\n",
    "# ax_survived_summary = plt.subplot2grid( (1,5), (0,4) )    # 표현 data의 위치\n",
    "# plt.scatter( x = sz_survived, y = sz_age, alpha = alpha_val )\n",
    "# plt.xlabel( 'Survived, 0 : Die, 1 : Alive' ); plt.ylabel( 'Age' ); plt.title( 'Age by Survived' )"
   ]
  },
  {
   "cell_type": "markdown",
   "metadata": {},
   "source": [
    "##성별에 따른, 생존자수 분석"
   ]
  },
  {
   "cell_type": "code",
   "execution_count": 37,
   "metadata": {
    "collapsed": false
   },
   "outputs": [],
   "source": [
    "# # 남녀 각각의 생존률을 기반으로 분석한다\n",
    "# fig_sur_prop_by_gen = plt.figure( figsize = (15,7) )    # fig size 정의\n",
    "# # 남자\n",
    "# ax_sur_prop_by_male = plt.subplot2grid( (2,2), (1,0) )    # 표현 data의 위치\n",
    "# sz_survived_male_summary = ( df[ 'Survived' ][ df[ 'Sex' ] == 'male' ] ).value_counts()    # 남자 생존여부 구분\n",
    "# sz_survived_male_summary.rename( index = { 0 : 'Died', 1 : 'Alive' }, inplace = True )\n",
    "# ( sz_survived_male_summary/np.float( df_male[ 'PassengerId' ].size ) ).sort_index( ascending = True ).plot( kind = 'barh', label = 'male', xlim = ([0,0.8]), ax = ax_sur_prop_by_male )\n",
    "# plt.title( 'Survived % : Male' ); plt.legend( loc = 'best' )\n",
    "# print 'Male Alive % : ', ( sz_survived_male_summary/np.float( df_male[ 'PassengerId' ].size ) ).ix[ 'Alive' ]\n",
    "\n",
    "# # 여자\n",
    "# ax_sur_prop_by_female = plt.subplot2grid( (2,2), (1,1) )    # 표현 data의 위치\n",
    "# sz_survived_female_summary = ( df[ 'Survived' ][ df[ 'Sex' ] == 'female' ] ).value_counts()    # 여자 생존여부 구분\n",
    "# sz_survived_female_summary.rename( index = { 0 : 'Died', 1 : 'Alive' }, inplace = True )\n",
    "# ( sz_survived_female_summary/np.float( df_female[ 'PassengerId' ].size ) ).sort_index( ascending = True ).plot( kind = 'barh', label = 'female', xlim = ([0,0.8]), ax = ax_sur_prop_by_female, color = 'red' )\n",
    "# plt.title( 'Survived % : Female' ); plt.legend( loc = 'best' )\n",
    "# print 'Female Alive % : ', ( sz_survived_female_summary/np.float( df_female[ 'PassengerId' ].size ) ).ix[ 'Alive' ]"
   ]
  },
  {
   "cell_type": "markdown",
   "metadata": {},
   "source": [
    "##좌석등급에 따른, 생존률 분석"
   ]
  },
  {
   "cell_type": "code",
   "execution_count": 38,
   "metadata": {
    "collapsed": false
   },
   "outputs": [],
   "source": [
    "# # 좌석등급 생존자수를 기반으로 분석한다\n",
    "# fig_sur_by_pclass = plt.figure( figsize = (15,4) )    # fig size 정의\n",
    "\n",
    "# # 1등급\n",
    "# sz_survived_pclass1_summary = ( df[ 'Survived' ][ df[ 'Pclass' ] == 1 ] ).value_counts()    # 1등급 좌석 생존 요약\n",
    "# ax_sur_by_class1 = plt.subplot2grid( (1,3), (0,0) )    # 표현 data의 위치\n",
    "# sz_survived_pclass1_summary.rename( index = { 0 : 'Died', 1 : 'Alive' }, inplace = True )\n",
    "# sz_survived_pclass1_summary.sort_index( ascending = True ).plot( kind = 'bar', label = '1st', ylim = ([0,300]), ax = ax_sur_by_class1 )\n",
    "# plt.title( 'Survived : 1st' )\n",
    "# print sz_survived_pclass1_summary\n",
    "\n",
    "# # 2등급\n",
    "# sz_survived_pclass2_summary = ( df[ 'Survived' ][ df[ 'Pclass' ] == 2 ] ).value_counts()    # 2등급 좌석 생존 요약\n",
    "# ax_sur_by_class2 = plt.subplot2grid( (1,3), (0,1) )    # 표현 data의 위치\n",
    "# sz_survived_pclass2_summary.rename( index = { 0 : 'Died', 1 : 'Alive' }, inplace = True )\n",
    "# sz_survived_pclass2_summary.sort_index( ascending = True ).plot( kind = 'bar', label = '2nd', ylim = ([0,300]), ax = ax_sur_by_class2, color = 'pink' )\n",
    "# plt.title( 'Survived : 2nd' )\n",
    "# print sz_survived_pclass2_summary\n",
    "\n",
    "# # 3등급http://localhost:8888/notebooks/15.06.08.01.kaggle.titanic/15.06.12.01.kaggle.Machine%20Learning%20from%20Disaster.ipynb#\n",
    "# sz_survived_pclass3_summary = ( df[ 'Survived' ][ df[ 'Pclass' ] == 3 ] ).value_counts()    # 2등급 좌석 생존 요약\n",
    "# ax_sur_by_class3 = plt.subplot2grid( (1,3), (0,2) )    # 표현 data의 위치\n",
    "# sz_survived_pclass3_summary.rename( index = { 0 : 'Died', 1 : 'Alive' }, inplace = True )\n",
    "# sz_survived_pclass3_summary.sort_index( ascending = True ).plot( kind = 'bar', label = '1st', ylim = ([0,300]), ax = ax_sur_by_class3, color = 'black' )\n",
    "# plt.title( 'Survived : 3rd' )\n",
    "# print sz_survived_pclass3_summary"
   ]
  },
  {
   "cell_type": "markdown",
   "metadata": {},
   "source": [
    "##좌석등급/ 성별구분 분석"
   ]
  },
  {
   "cell_type": "code",
   "execution_count": 39,
   "metadata": {
    "collapsed": false
   },
   "outputs": [],
   "source": [
    "# # 좌석등급별 성별따른 각각의 생존률을 기반으로 분석한다\n",
    "# fig_pclass1 = plt.figure( figsize = (15,4) )    # fig size 정의\n",
    "\n",
    "# # 1등급, 여자\n",
    "# sz_pclass1_f = df[ 'Survived' ][ ( df[ 'Pclass' ] == 1 ) & ( df[ 'Sex' ] == 'female' ) ]    # 1등급, 여자\n",
    "# sz_pclass1_f_summary = sz_pclass1_f.value_counts()/( np.float( sz_pclass1_f.size ) )    # groupby후 %\n",
    "# sz_pclass1_f_summary\n",
    "# ax_pclass1_f = plt.subplot2grid( (1,6), (0,0) )    # 표현 data의 위치\n",
    "# sz_pclass1_f_summary.rename( index = { 0 : 'Died', 1 : 'Alive' }, inplace = True )\n",
    "# sz_pclass1_f_summary.sort_index( ascending = True ).plot( kind = 'bar', label = '1st w/ female', ylim = ([0,1]), ax = ax_pclass1_f, color = 'red' )\n",
    "# plt.title( '1st Female' )\n",
    "# try :\n",
    "#     print '1st Female : ', sz_pclass1_f_summary.ix[ 'Alive' ]\n",
    "# except :\n",
    "#     print '0'\n",
    "\n",
    "# # 1등급, 남자\n",
    "# sz_pclass1_m = df[ 'Survived' ][ ( df[ 'Pclass' ] == 1 ) & ( df[ 'Sex' ] == 'male' ) ]    # 1등급, 남자\n",
    "# sz_pclass1_m_summary = sz_pclass1_m.value_counts()/( np.float( sz_pclass1_m.size ) )    # groupby후 %\n",
    "# ax_pclass1_m = plt.subplot2grid( (1,6), (0,1) )    # 표현 data의 위치\n",
    "# sz_pclass1_m_summary.rename( index = { 0 : 'Died', 1 : 'Alive' }, inplace = True )\n",
    "# sz_pclass1_m_summary.sort_index( ascending = True ).plot( kind = 'bar', label = '1st w/ male', ylim = ([0,1]), ax = ax_pclass1_m )\n",
    "# plt.title( '1st male' )\n",
    "# sz_pclass1_m_summary\n",
    "# try :\n",
    "#     print '1st Male : ', sz_pclass1_m_summary.ix[ 'Alive' ]\n",
    "# except :\n",
    "#     print '0'\n",
    "\n",
    "# # 2등급, 여자\n",
    "# sz_pclass2_f = df[ 'Survived' ][ ( df[ 'Pclass' ] == 2 ) & ( df[ 'Sex' ] == 'female' ) ]    # 2등급, 여자\n",
    "# sz_pclass2_f_summary = sz_pclass2_f.value_counts()/( np.float( sz_pclass2_f.size ) )    # groupby후 %\n",
    "# sz_pclass2_f_summary\n",
    "# sz_pclass2_f = plt.subplot2grid( (1,6), (0,2) )    # 표현 data의 위치\n",
    "# sz_pclass2_f_summary.rename( index = { 0 : 'Died', 1 : 'Alive' }, inplace = True )\n",
    "# sz_pclass2_f_summary.sort_index( ascending = True ).plot( kind = 'bar', label = '2nd w/ female', ylim = ([0,1]), ax = sz_pclass2_f, color = 'red' )\n",
    "# plt.title( '2nd Female' )\n",
    "# try :\n",
    "#     print '2nd Female : ', sz_pclass2_f_summary.ix[ 'Alive' ]\n",
    "# except :\n",
    "#     print '0'\n",
    "\n",
    "# # 2등급, 남자\n",
    "# sz_pclass2_m = df[ 'Survived' ][ ( df[ 'Pclass' ] == 2 ) & ( df[ 'Sex' ] == 'male' ) ]    # 2등급, 남자\n",
    "# sz_pclass2_m_summary = sz_pclass2_m.value_counts()/( np.float( sz_pclass2_m.size ) )    # groupby후 %\n",
    "# ax_pclass2_m = plt.subplot2grid( (1,6), (0,3) )    # 표현 data의 위치\n",
    "# sz_pclass2_m_summary.rename( index = { 0 : 'Died', 1 : 'Alive' }, inplace = True )\n",
    "# sz_pclass2_m_summary.sort_index( ascending = True ).plot( kind = 'bar', label = '2nd w/ male', ylim = ([0,1]), ax = ax_pclass2_m )\n",
    "# plt.title( '2nd male' )\n",
    "# try :\n",
    "#     print '2nd Male : ', sz_pclass2_m_summary.ix[ 'Alive' ]\n",
    "# except :\n",
    "#     print '0'\n",
    "\n",
    "# # 3등급, 여자\n",
    "# sz_pclass3_f = df[ 'Survived' ][ ( df[ 'Pclass' ] == 3 ) & ( df[ 'Sex' ] == 'female' ) ]    # 3등급, 여자\n",
    "# sz_pclass3_f_summary = sz_pclass3_f.value_counts()/( np.float( sz_pclass3_f.size ) )    # groupby후 %\n",
    "# sz_pclass3_f_summary\n",
    "# sz_pclass3_f = plt.subplot2grid( (1,6), (0,4) )    # 표현 data의 위치\n",
    "# sz_pclass3_f_summary.rename( index = { 0 : 'Died', 1 : 'Alive' }, inplace = True )\n",
    "# sz_pclass3_f_summary.sort_index( ascending = True ).plot( kind = 'bar', label = '3rd w/ female', ylim = ([0,1]), ax = sz_pclass3_f, color = 'red' )\n",
    "# plt.title( '3rd Female' )\n",
    "# try :\n",
    "#     print '3rd Female : ', sz_pclass3_f_summary.ix[ 'Alive' ]\n",
    "# except :\n",
    "#     print '0'\n",
    "\n",
    "# # 3등급, 남자\n",
    "# sz_pclass3_m = df[ 'Survived' ][ ( df[ 'Pclass' ] == 3 ) & ( df[ 'Sex' ] == 'male' ) ]    # 3등급, 남자\n",
    "# sz_pclass3_m_summary = sz_pclass3_m.value_counts()/( np.float( sz_pclass3_m.size ) )    # groupby후 %\n",
    "# ax_pclass3_m = plt.subplot2grid( (1,6), (0,5) )    # 표현 data의 위치\n",
    "# sz_pclass3_m_summary.rename( index = { 0 : 'Died', 1 : 'Alive' }, inplace = True )\n",
    "# sz_pclass3_m_summary.sort_index( ascending = True ).plot( kind = 'bar', label = '2nd w/ male', ylim = ([0,1]), ax = ax_pclass3_m )\n",
    "# plt.title( '3rd male' )\n",
    "# try :\n",
    "#     print '3rd Male : ', sz_pclass3_m_summary.ix[ 'Alive' ]\n",
    "# except :\n",
    "#     print '0'"
   ]
  }
 ],
 "metadata": {
  "kernelspec": {
   "display_name": "Python 3",
   "language": "python",
   "name": "python3"
  },
  "language_info": {
   "codemirror_mode": {
    "name": "ipython",
    "version": 3
   },
   "file_extension": ".py",
   "mimetype": "text/x-python",
   "name": "python",
   "nbconvert_exporter": "python",
   "pygments_lexer": "ipython3",
   "version": "3.4.3"
  }
 },
 "nbformat": 4,
 "nbformat_minor": 0
}
