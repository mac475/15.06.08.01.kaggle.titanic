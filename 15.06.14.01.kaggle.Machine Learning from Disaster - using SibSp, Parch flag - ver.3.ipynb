{
 "cells": [
  {
   "cell_type": "markdown",
   "metadata": {},
   "source": [
    "#Titanic"
   ]
  },
  {
   "cell_type": "code",
   "execution_count": 1363,
   "metadata": {
    "collapsed": false
   },
   "outputs": [
    {
     "data": {
      "text/html": [
       "<style>\n",
       "    @font-face {\n",
       "        font-family: \"Computer Modern\", \"malgun gothic\";\n",
       "        src: url('http://mirrors.ctan.org/fonts/cm-unicode/fonts/otf/cmunss.otf');\n",
       "    }\n",
       "    div.cell{\n",
       "        width: 100%;\n",
       "    }\n",
       "    ul {\n",
       "        line-height: 100%;\n",
       "        font-size: 100%;\n",
       "    }\n",
       "    li {\n",
       "        margin-bottom: 0.5em;\n",
       "    }\n",
       "    h1 {\n",
       "        font-family: Helvetica, serif, \"malgun gothic\";\n",
       "    }\n",
       "    h4{\n",
       "        margin-top: 12px;\n",
       "//        margin-bottom: 3px;\n",
       "       }\n",
       "    div.text_cell_render{\n",
       "//        font-family: Computer Modern, \"Helvetica Neue\", Arial, Helvetica, Geneva, sans-serif;\n",
       "        font-family: malgun gothic;\n",
       "        line-height: 100%;\n",
       "//        font-size: 100%;\n",
       "        width: 100%;\n",
       "//        margin-left:auto;\n",
       "//        margin-right:auto;\n",
       "    }\n",
       "    .CodeMirror{\n",
       "            font-family: \"Source Code Pro\", source-code-pro,Consolas, monospace;\n",
       "    }\n",
       "/*    .prompt{\n",
       "        display: None;\n",
       "    }*/\n",
       "    .text_cell_render h5 {\n",
       "        font-family: malgun gothic;\n",
       "        font-weight: 300;\n",
       "        font-size: 16pt;\n",
       "        color: #4057A1;\n",
       "        font-style: italic;\n",
       "        margin-bottom: 0.5em;\n",
       "        margin-top: 0.5em;\n",
       "        display: block;\n",
       "    }\n",
       "\n",
       "    .warning{\n",
       "        color: rgb( 240, 20, 20 )\n",
       "        }\n",
       "</style>\n",
       "<script>\n",
       "    MathJax.Hub.Config({\n",
       "                        TeX: {\n",
       "                           extensions: [\"AMSmath.js\"]\n",
       "                           },\n",
       "                tex2jax: {\n",
       "                    inlineMath: [ ['$','$'], [\"\\\\(\",\"\\\\)\"] ],\n",
       "                    displayMath: [ ['$$','$$'], [\"\\\\[\",\"\\\\]\"] ]\n",
       "                },\n",
       "                displayAlign: 'center', // Change this to 'center' to center equations.\n",
       "//                \"HTML-CSS\": {\n",
       "//                    styles: {'.MathJax_Display': {\"margin\": 4}}\n",
       "//                }\n",
       "        });\n",
       "</script>"
      ],
      "text/plain": [
       "<IPython.core.display.HTML object>"
      ]
     },
     "execution_count": 1363,
     "metadata": {},
     "output_type": "execute_result"
    }
   ],
   "source": [
    "# mac475의 ipython 표준 style을 적용함\n",
    "from IPython.core.display import HTML\n",
    "styles = open(\"../styles/custom.css\", \"r\").read()\n",
    "HTML( styles )"
   ]
  },
  {
   "cell_type": "markdown",
   "metadata": {},
   "source": [
    "##1. 개    요\n",
    "\n",
    "##Description\n",
    "In this challenge, we ask you to complete the analysis of\n",
    "**what sorts of people were likely to survive.**\n",
    "In particular, we ask you to **apply the tools of machine learning** **to predict which passengers survived the tragedy.**\n",
    "- 즉, 어떤 종류의 승객이 살아남는지를 분석해야 한다.\n",
    "- M.L을 적용해야 한다.\n",
    "- 어떤 승객이 생존할 지 예측해야 한다."
   ]
  },
  {
   "cell_type": "markdown",
   "metadata": {},
   "source": [
    "##Evaluation\n",
    "\n",
    "제시되는 dataset은 두 종류로 split되어있으며\n",
    "- training set : 생존여부를 같이 제공한다. 모델링을 위해 사용한다.\n",
    "- test set : prediction을 생성해야 한다.\n",
    "이다.\n",
    "test set에 대해서 생존여부를 예측해야 한다. (0 : 사망, 1 : 생존)\n",
    "정확히 예측한 %가 점수로 부여된다."
   ]
  },
  {
   "cell_type": "markdown",
   "metadata": {},
   "source": [
    "##Submission Instructions\n",
    "\n",
    "You should **submit a csv file** with exactly **418 entries plus a header row.**\n",
    "\n",
    "This <font color='red'>**must have exactly 2 columns: PassengerId (which can be sorted in any order), and Survived</font>\n",
    "\n",
    "which contains your binary predictions: 1 for survived, 0 for did not.**\n",
    "\n",
    "- csv를 제출한다.\n",
    "- csv에는 418개와 header row가 있어야 한다.\n",
    "- 2개 column만 존재해야 한다. PassengerId, Survived (1 : 생존, 0 : 사망)\n",
    "- 추가적 column 사용은 금지한다.\n",
    "\n",
    "참고를 위해, gendermodel.csv를 참고한다."
   ]
  },
  {
   "cell_type": "markdown",
   "metadata": {},
   "source": [
    "##Competition Rules\n",
    "\n",
    "###Submission Limits\n",
    "**You may submit a maximum of 10 entries per day. (10회/일 가능)**\n",
    "\n",
    "**You may select up to 5 final submissions for judging. (최종적으로 5개까지 선택가능함)**\n",
    "\n",
    "###Competition Timeline\n",
    "Start Date: 9/28/2012 9:13:33 PM UTC\n",
    "\n",
    "Merger Deadline: None\n",
    "\n",
    "First Submission Deadline: None\n",
    "\n",
    "End Date: 12/31/2015 11:59:00 PM UTC\n",
    "\n",
    "This is a fun competition aimed at helping you get started with machine learning.  While the Titanic dataset is publically\n",
    "available on the internet, looking up the answers defeats the entire purpose.  So seriously, don't do that."
   ]
  },
  {
   "cell_type": "markdown",
   "metadata": {},
   "source": [
    "##dataset내의 변수관련 참고자료는 다음과 같다\n",
    "\n",
    "|VARIABLE|DESCRIPTIONS\n",
    "|:-|:-|:-:\n",
    "|survival|Survival (0 = No; 1 = Yes)\n",
    "|pclass|Passenger Class (1 = 1st; 2 = 2nd; 3 = 3rd)\n",
    "|name|Name\n",
    "|sex|Sex\n",
    "|age|Age\n",
    "|sibsp|Number of Siblings/Spouses Aboard\n",
    "|parch|Number of Parents/Children Aboard\n",
    "|ticket|Ticket Number\n",
    "|fare|Passenger Fare\n",
    "|cabin|Cabin (객실 정보, 객실 번호)\n",
    "|embarked|Port of Embarkation (C = Cherbourg; Q = Queenstown; S = Southampton)\n",
    "\n",
    "SPECIAL NOTES:\n",
    "Pclass is a proxy for socio-economic status (SES)\n",
    " 1st ~ Upper; 2nd ~ Middle; 3rd ~ Lower\n",
    "\n",
    "Age is in Years; Fractional if Age less than One (1)\n",
    " If the Age is Estimated, it is in the form xx.5\n",
    "\n",
    "With respect to the family relation variables (i.e. sibsp and parch)\n",
    "some relations were ignored.  The following are the definitions used\n",
    "for sibsp and parch.\n",
    "\n",
    "Sibling:  Brother, Sister, Stepbrother, or Stepsister of Passenger Aboard Titanic\n",
    "\n",
    "Spouse:   Husband or Wife of Passenger Aboard Titanic (Mistresses and Fiances Ignored)\n",
    "\n",
    "Parent:   Mother or Father of Passenger Aboard Titanic\n",
    "\n",
    "Child:    Son, Daughter, Stepson, or Stepdaughter of Passenger Aboard Titanic\n",
    "\n",
    "Other family relatives excluded from this study include cousins,\n",
    "nephews/nieces, aunts/uncles, and in-laws.  Some children travelled\n",
    "only with a nanny, therefore parch=0 for them.  As well, some\n",
    "travelled with very close friends or neighbors in a village, however,\n",
    "the definitions do not support such relations."
   ]
  },
  {
   "cell_type": "markdown",
   "metadata": {},
   "source": [
    "##2. Train data 확보/ Cleansing"
   ]
  },
  {
   "cell_type": "code",
   "execution_count": 1364,
   "metadata": {
    "collapsed": false
   },
   "outputs": [],
   "source": [
    "# -*- coding: utf-8-*-\n",
    "import pandas as pd\n",
    "import numpy as np\n",
    "\n",
    "# data를 확보한다.\n",
    "df = pd.read_csv( './dataset/train.csv' )    # data를 읽어들인다.\n",
    "# df.head()    # 대략적 내용을 파악한다."
   ]
  },
  {
   "cell_type": "code",
   "execution_count": 1365,
   "metadata": {
    "collapsed": false
   },
   "outputs": [],
   "source": [
    "# df.shape    # dataframe의 형태를 파악한다."
   ]
  },
  {
   "cell_type": "code",
   "execution_count": 1366,
   "metadata": {
    "collapsed": false
   },
   "outputs": [],
   "source": [
    "# df.count()    # 각 feature들의 data 현황을 파악한다."
   ]
  },
  {
   "cell_type": "markdown",
   "metadata": {
    "collapsed": false
   },
   "source": [
    "대부분의 feature들은 문제없어 보이나, Age는 일부 누락, Cabin은 누락이 많아 보인다."
   ]
  },
  {
   "cell_type": "code",
   "execution_count": 1367,
   "metadata": {
    "collapsed": false
   },
   "outputs": [
    {
     "name": "stdout",
     "output_type": "stream",
     "text": [
      "Age의 누락개수 :  177\n"
     ]
    }
   ],
   "source": [
    "df_age_isNaN = df[ df[ 'Age' ].isnull() ]    # Age가 NaN인 data를 별도로 확인한다. isnull()은 numeric의 경우 NaN을 찾을 수 있다.\n",
    "df_age_is0 = df[ df[ 'Age' ] == 0 ]    # 혹시나, Age == 0를 찾아보니 없다.\n",
    "print( 'Age의 누락개수 : ', df_age_isNaN[ 'PassengerId' ].size )\n",
    "# df_age_isNaN.head()"
   ]
  },
  {
   "cell_type": "code",
   "execution_count": 1368,
   "metadata": {
    "collapsed": false
   },
   "outputs": [
    {
     "name": "stdout",
     "output_type": "stream",
     "text": [
      "Cabin의 누락개수 :  687\n"
     ]
    }
   ],
   "source": [
    "df_cabin_isNone = df[ df[ 'Cabin' ].isnull() ]    # Cabin이 None인 data를 별도로 확인한다.\n",
    "print( 'Cabin의 누락개수 : ', df_cabin_isNone[ 'PassengerId' ].size )    # Cabin은 누락이 상당히 많다.\n",
    "# df_cabin_isNone.head()"
   ]
  },
  {
   "cell_type": "code",
   "execution_count": 1369,
   "metadata": {
    "collapsed": false
   },
   "outputs": [],
   "source": [
    "# 분석에 필요없어 보이는 Name을 제거한다. → first name을 통해 가족들의 생존률이 고려가능하다고 판단\n",
    "# df.head()"
   ]
  },
  {
   "cell_type": "code",
   "execution_count": 1370,
   "metadata": {
    "collapsed": false
   },
   "outputs": [
    {
     "data": {
      "text/plain": [
       "PassengerId    891\n",
       "Survived       891\n",
       "Pclass         891\n",
       "Name           891\n",
       "Sex            891\n",
       "Age            714\n",
       "SibSp          891\n",
       "Parch          891\n",
       "Ticket         891\n",
       "Fare           891\n",
       "Cabin          204\n",
       "Embarked       889\n",
       "dtype: int64"
      ]
     },
     "execution_count": 1370,
     "metadata": {},
     "output_type": "execute_result"
    }
   ],
   "source": [
    "df.count()    # 다시한번, dataset을 살펴본다."
   ]
  },
  {
   "cell_type": "markdown",
   "metadata": {},
   "source": [
    "Embarked도 2건의 누락이 있다"
   ]
  },
  {
   "cell_type": "code",
   "execution_count": 1371,
   "metadata": {
    "collapsed": false
   },
   "outputs": [],
   "source": [
    "df_embarked_isNone = df[ df[ 'Embarked' ].isnull() ]    # Embarked가 None인 것들\n",
    "# df_embarked_isNone"
   ]
  },
  {
   "cell_type": "markdown",
   "metadata": {},
   "source": [
    "두 승객 모두 생존했고, 1등급이고, 여성이며, Fare = 80이다"
   ]
  },
  {
   "cell_type": "code",
   "execution_count": 1372,
   "metadata": {
    "collapsed": false
   },
   "outputs": [],
   "source": [
    "# df[ 'Embarked' ].value_counts()"
   ]
  },
  {
   "cell_type": "markdown",
   "metadata": {},
   "source": [
    "Embarked는 다음과 같은 의미로 승객의 승선지를 제공한다.\n",
    "\n",
    "Port of Embarkation (S = Southampton, C = Cherbourg, Q = Queenstown)\n",
    "\n",
    "Titanic의 경로에 대한 참고정보 ['http://www.gma.org/space1/titanic.html']"
   ]
  },
  {
   "cell_type": "code",
   "execution_count": 1373,
   "metadata": {
    "collapsed": false,
    "scrolled": true
   },
   "outputs": [],
   "source": [
    "# Ticket 번호를 근거로, 승선지 Embarked를 추정한다. 일정부분 가정이 개입됨.\n",
    "# df[ [ 'Ticket', 'Fare', 'Cabin', 'Embarked' ] ][ df[ 'Ticket' ] >= '113510' ].sort( columns = 'Ticket' ).head( 10 )"
   ]
  },
  {
   "cell_type": "markdown",
   "metadata": {},
   "source": [
    "따라서, Embarked가 누락된 2개 승객은 B28 Cabin을 사용하였으며, 아마도 Southampton에서 승선했으리라고 판단가능하다.\n",
    "\n",
    "Embarked 누락분 2개는 'S' 값을 부여하기로 한다."
   ]
  },
  {
   "cell_type": "code",
   "execution_count": 1374,
   "metadata": {
    "collapsed": false
   },
   "outputs": [],
   "source": [
    "df[ 'Embarked' ].fillna( value = 'S', inplace = True )    # Embarked == null을 S로 대체"
   ]
  },
  {
   "cell_type": "code",
   "execution_count": 1375,
   "metadata": {
    "collapsed": false
   },
   "outputs": [],
   "source": [
    "# df.count()"
   ]
  },
  {
   "cell_type": "markdown",
   "metadata": {},
   "source": [
    "Age에 여전히 누락이 많다.\n",
    "Age를 살펴본다."
   ]
  },
  {
   "cell_type": "code",
   "execution_count": 1376,
   "metadata": {
    "collapsed": false
   },
   "outputs": [
    {
     "data": {
      "text/plain": [
       "<matplotlib.text.Text at 0xf51e7b8>"
      ]
     },
     "execution_count": 1376,
     "metadata": {},
     "output_type": "execute_result"
    },
    {
     "data": {
      "image/png": "[encoded data removed]",
      "text/plain": [
       "<matplotlib.figure.Figure at 0x124e6908>"
      ]
     },
     "metadata": {},
     "output_type": "display_data"
    }
   ],
   "source": [
    "import matplotlib.pyplot as plt\n",
    "%matplotlib inline\n",
    "# import seaborn as sns\n",
    "\n",
    "alpha_val = 0.55\n",
    "\n",
    "sz_age = df[ df[ 'Age' ].notnull() ][ 'Age' ]    # Age만 별도 추출\n",
    "    \n",
    "fig_age = plt.figure( figsize = (7,4) )    # fig size 정의\n",
    "ax_age = plt.subplot2grid( (1,1), (0,0) )    # 표현 data\n",
    "plt.hist( x = sz_age, normed = False, facecolor = 'green', alpha = alpha_val )    # hist 설정\n",
    "plt.xlabel( 'Age' ); plt.ylabel( 'Count' ); plt.title( 'Ages' )"
   ]
  },
  {
   "cell_type": "code",
   "execution_count": 1377,
   "metadata": {
    "collapsed": false
   },
   "outputs": [],
   "source": [
    "# print( '최연소 : ', sz_age.min(), '\\n최고령 : ', sz_age.max(), '\\n평균연령 : ', sz_age.mean(), '\\n중간연령 : ', sz_age.median() )"
   ]
  },
  {
   "cell_type": "markdown",
   "metadata": {},
   "source": [
    "* 20대, 30대에 많이 편중되어 있다. \n",
    "\n",
    "Age == NaN인 missed dataset들에 대해,\n",
    "1. 제외\n",
    "\n",
    "2. 임의의 값 (mean, median 등) 부여\n",
    "\n",
    "하고 분석할지 판단이 필요하다.\n",
    "\n",
    "정확한 분석시도를 위해"
   ]
  },
  {
   "cell_type": "markdown",
   "metadata": {},
   "source": [
    "##<font color='red'>Training dataset에서 크게 누락발생되는 Age를 복원하기 위한 다양한 Case가 존재</font>"
   ]
  },
  {
   "cell_type": "code",
   "execution_count": 1378,
   "metadata": {
    "collapsed": false
   },
   "outputs": [
    {
     "data": {
      "text/plain": [
       "(30.636068912832116,\n",
       " 31.487337614782263,\n",
       " 24.173636363636362,\n",
       " 18.708333333333332,\n",
       " 11.777777777777779,\n",
       " 10.1,\n",
       " 14.5)"
      ]
     },
     "execution_count": 1378,
     "metadata": {},
     "output_type": "execute_result"
    }
   ],
   "source": [
    "df_test = pd.read_csv( './dataset/test.csv' )    # data를 읽어들인다.\n",
    "\n",
    "# Case 1 : Trainig/ Test를 누락값 보완으로 활용\n",
    "mean_age_sub0 = ( df[ 'Age' ][ df[ 'SibSp' ] == 0 ].mean() + df_test[ 'Age' ][ df_test[ 'SibSp' ] == 0 ].mean() )/2.0\n",
    "mean_age_sub1 = ( df[ 'Age' ][ df[ 'SibSp' ] == 1 ].mean() + df_test[ 'Age' ][ df_test[ 'SibSp' ] == 1 ].mean() )/2.0\n",
    "mean_age_sub2 = ( df[ 'Age' ][ df[ 'SibSp' ] == 2 ].mean() + df_test[ 'Age' ][ df_test[ 'SibSp' ] == 2 ].mean() )/2.0\n",
    "mean_age_sub3 = ( df[ 'Age' ][ df[ 'SibSp' ] == 3 ].mean() + df_test[ 'Age' ][ df_test[ 'SibSp' ] == 3 ].mean() )/2.0\n",
    "mean_age_sub4 = ( df[ 'Age' ][ df[ 'SibSp' ] == 4 ].mean() + df_test[ 'Age' ][ df_test[ 'SibSp' ] == 4 ].mean() )/2.0\n",
    "mean_age_sub5 = ( df[ 'Age' ][ df[ 'SibSp' ] == 5 ].mean() + df_test[ 'Age' ][ df_test[ 'SibSp' ] == 5 ].mean() )/2.0\n",
    "mean_age_sub8 = df_test[ 'Age' ][ df_test[ 'SibSp' ] == 8 ].mean()\n",
    "\n",
    "# Case 2 : Trainig를 누락값 보완으로 활용\n",
    "# mean_age_sub0 = df[ 'Age' ][ df[ 'SibSp' ] == 0 ].mean()\n",
    "# mean_age_sub1 = df[ 'Age' ][ df[ 'SibSp' ] == 1 ].mean()\n",
    "# mean_age_sub2 = df[ 'Age' ][ df[ 'SibSp' ] == 2 ].mean()\n",
    "# mean_age_sub3 = df[ 'Age' ][ df[ 'SibSp' ] == 3 ].mean()\n",
    "# mean_age_sub4 = df[ 'Age' ][ df[ 'SibSp' ] == 4 ].mean()\n",
    "# mean_age_sub5 = df[ 'Age' ][ df[ 'SibSp' ] == 5 ].mean()\n",
    "# mean_age_sub8 = df_test[ 'Age' ][ df_test[ 'SibSp' ] == 8 ].mean()\n",
    "\n",
    "mean_age_sub0, mean_age_sub1, mean_age_sub2, mean_age_sub3, mean_age_sub4, mean_age_sub5, mean_age_sub8    # SibSp별 평균Age"
   ]
  },
  {
   "cell_type": "markdown",
   "metadata": {},
   "source": [
    "##Training data에서 Age를 보완하기 위해, SibSp Case별로 판단하여 복원"
   ]
  },
  {
   "cell_type": "code",
   "execution_count": 1379,
   "metadata": {
    "collapsed": false
   },
   "outputs": [],
   "source": [
    "# Case 1\n",
    "# df = df[ df[ 'Age' ].notnull() ]    # Age가 None이 아닌것들만 Filtering한다.\n",
    "# Case 2\n",
    "df[ 'Age' ].fillna( value = df[ 'Age' ].mean(), inplace = True )    # 누락된 Age에 평균 mean값 부여\n",
    "# Case 3\n",
    "# df[ 'Age' ].fillna( value = df[ 'Age' ].median(), inplace = True )    # 누락된 Age에 평균 mean값 부여\n",
    "# Case 4\n",
    "\n",
    "# print( df.count() )\n",
    "# idx_list = df[ ( df[ 'Age' ].isnull() ) & ( df[ 'SibSp' ] == 0 ) ].index.tolist()\n",
    "# for idx in idx_list :    # row에 대한 강제 setting\n",
    "#     df.loc[ idx, 'Age' ] = mean_age_sub0\n",
    "\n",
    "# idx_list = df[ ( df[ 'Age' ].isnull() ) & ( df[ 'SibSp' ] == 1 ) ].index.tolist()\n",
    "# for idx in idx_list :    # row에 대한 강제 setting\n",
    "#     df.loc[ idx, 'Age' ] = mean_age_sub1\n",
    "    \n",
    "# idx_list = df[ ( df[ 'Age' ].isnull() ) & ( df[ 'SibSp' ] == 2 ) ].index.tolist()\n",
    "# for idx in idx_list :    # row에 대한 강제 setting\n",
    "#     df.loc[ idx, 'Age' ] = mean_age_sub2\n",
    "    \n",
    "# idx_list = df[ ( df[ 'Age' ].isnull() ) & ( df[ 'SibSp' ] == 3 ) ].index.tolist()\n",
    "# for idx in idx_list :    # row에 대한 강제 setting\n",
    "#     df.loc[ idx, 'Age' ] = mean_age_sub3\n",
    "    \n",
    "# idx_list = df[ ( df[ 'Age' ].isnull() ) & ( df[ 'SibSp' ] == 4 ) ].index.tolist()\n",
    "# for idx in idx_list :    # row에 대한 강제 setting\n",
    "#     df.loc[ idx, 'Age' ] = mean_age_sub4\n",
    "    \n",
    "# idx_list = df[ ( df[ 'Age' ].isnull() ) & ( df[ 'SibSp' ] == 5 ) ].index.tolist()\n",
    "# for idx in idx_list :    # row에 대한 강제 setting\n",
    "#     df.loc[ idx, 'Age' ] = mean_age_sub5\n",
    "\n",
    "# idx_list = df[ ( df[ 'Age' ].isnull() ) & ( df[ 'SibSp' ] == 8 ) ].index.tolist()\n",
    "# for idx in idx_list :    # row에 대한 강제 setting\n",
    "#     df.loc[ idx, 'Age' ] = mean_age_sub8\n",
    "    \n",
    "# print( df.count() )\n",
    "# df[ df[ 'Age' ].isnull() ]"
   ]
  },
  {
   "cell_type": "markdown",
   "metadata": {},
   "source": [
    "Cabin은 누락도 상당히 많고, 객실번호를 통해 모델링이 가능할 것으로 볼 수 없다고 생각했으나,\n",
    "\n",
    "누락분에 대해서는 CabinX로 일단 처리해두고, 이후에 labeling하여 분석모델에 feature로 참여시킨다\n",
    "\n",
    "분석가능하지 않다고 판단되므로 제외한다."
   ]
  },
  {
   "cell_type": "code",
   "execution_count": 1380,
   "metadata": {
    "collapsed": false
   },
   "outputs": [],
   "source": [
    "# Case 1\n",
    "# df.drop( labels = 'Cabin', axis = 1, inplace = True )\n",
    "# df.count()\n",
    "\n",
    "# Case 2\n",
    "df[ 'Cabin' ].fillna( value = 'cabin_X', inplace = True )\n",
    "# df.count()"
   ]
  },
  {
   "cell_type": "markdown",
   "metadata": {},
   "source": [
    "##3. Train data에 대한 탐색\n",
    "###여기까지 기본적인 Cleansing 작업을 진행했다.\n",
    "###이제, 각 Feature 측면을 확인해본다."
   ]
  },
  {
   "cell_type": "code",
   "execution_count": 1381,
   "metadata": {
    "collapsed": false
   },
   "outputs": [
    {
     "data": {
      "text/plain": [
       "<matplotlib.figure.Figure at 0x107c5978>"
      ]
     },
     "metadata": {},
     "output_type": "display_data"
    }
   ],
   "source": [
    "fig_survived_summary = plt.figure( figsize = (16.5,4) )    # fig size 정의\n",
    "\n",
    "# # Surveved의 기본확인\n",
    "# sz_survived_summary = df[ 'Survived' ].value_counts()    # Survived의 생존여부별로 groupby하여 결과수치를 확인한다.\n",
    "# sz_survived_summary_tweaked = sz_survived_summary.rename( index = { 0 : 'Die', 1 : 'Alive' } )    # index를 가시적으로 변경\n",
    "# ax_survived_summary = plt.subplot2grid( (1,5), (0,0) )    # 표현 data의 위치\n",
    "# sz_survived_summary_tweaked.sort_index().plot( kind = 'bar', ax = ax_survived_summary, alpha = alpha_val )\n",
    "# plt.xlabel( 'Survived' ); plt.ylabel( 'Count' ); plt.title( 'Survived Count' )\n",
    "# print( 'Survived Alive : ', sz_survived_summary.ix[ 1 ], 'Died : ', sz_survived_summary.ix[ 0 ], 'Alive % : ', np.float( sz_survived_summary.ix[1] )/np.float( sz_survived_summary.sum() ) )\n",
    "\n",
    "# # P Class의 기본확인\n",
    "# sz_pclass_summary = df[ 'Pclass' ].value_counts()    # Pclass를 groupby하여 결과수치를 확인한다.\n",
    "# sz_pclass_summary.rename( index = { 1 : '1st', 2 : '2nd', 3 : '3rd' }, inplace = True )\n",
    "# ax_pclass_summary = plt.subplot2grid( (1,5), (0,1) )    # 표현 data의 위치\n",
    "# sz_pclass_summary.sort_index( ascending = True ).plot( kind = 'bar', ax = ax_pclass_summary, alpha = alpha_val )\n",
    "# plt.xlabel( 'Ticket Class' ); plt.ylabel( 'Count' ); plt.title( 'Ticket Class Count' )\n",
    "# print( 'Class 1st : ', sz_pclass_summary.ix[ '1st' ], '2nd : ', sz_pclass_summary.ix[ '2nd' ], '3rd : ', sz_pclass_summary.ix[ '3rd' ] )\n",
    "\n",
    "# # Embarked의 기본확인\n",
    "# sz_embarked_summary = df[ 'Embarked' ].value_counts()    # Embarked 정보별로 groupby하여 결과수치를 확인한다.\n",
    "# sz_embarked_summary.rename( index = { 'C' : 'Cherbourg', 'Q' : 'Queenstown', 'S' : 'Southampton' }, inplace = True )\n",
    "# ax_embarked_summary = plt.subplot2grid( (1,5), (0,2) )    # 표현 data의 위치\n",
    "# sz_embarked_summary.plot( kind = 'bar', ax = ax_embarked_summary, alpha = alpha_val )\n",
    "# plt.xlabel( 'Embarked' ); plt.ylabel( 'Count' ); plt.title( 'Embarked Count' )\n",
    "# print( 'Embarked Cherbourg : ', sz_embarked_summary.ix[ 'Cherbourg' ], 'Queenstown : ', sz_embarked_summary.ix[ 'Queenstown' ], 'Southampton : ', sz_embarked_summary.ix[ 'Southampton' ] )\n",
    "\n",
    "# # Gender의 기본확인\n",
    "# sz_gender_summary = df[ 'Sex' ].value_counts()    # Sex 성별별로 groupby하여 결과수치를 확인한다.\n",
    "# ax_gender_summary = plt.subplot2grid( (1,5), (0,3) )    # 표현 data의 위치\n",
    "# sz_gender_summary.sort_index().plot( kind = 'bar', ax = ax_gender_summary, alpha = alpha_val )\n",
    "# plt.xlabel( 'Sex' ); plt.ylabel( 'Count' ); plt.title( 'Sex Count' )\n",
    "# print( 'Sex male : ', sz_gender_summary.ix[ 'male' ], 'female : ', sz_gender_summary.ix[ 'female' ] )\n",
    "\n",
    "# # 연령대의 기본확인\n",
    "# sz_survived = df[ 'Survived' ]\n",
    "# sz_survived_tweaked = sz_survived.replace( to_replace = { 0 : 'Die', 1 : 'Alive' } )\n",
    "# sz_age = df[ 'Age' ]\n",
    "# ax_survived_summary = plt.subplot2grid( (1,5), (0,4) )    # 표현 data의 위치\n",
    "# plt.scatter( x = sz_survived, y = sz_age, alpha = alpha_val )\n",
    "# plt.xlabel( '0 : Die, 1 : Alive' ); plt.ylabel( 'Age' ); plt.title( 'Age by Survived' )"
   ]
  },
  {
   "cell_type": "markdown",
   "metadata": {},
   "source": [
    "### 요약하면,\n",
    "1. 생존자 < 사망자\n",
    "2. 1등석, 2등석 << 3등석\n",
    "3. Southhampton 사람들이 많았고\n",
    "4. 남자 > 여자\n",
    "5. 65 ~ 대부분 사망\n",
    "\n",
    "뭐, 일단은 이 정도로..."
   ]
  },
  {
   "cell_type": "code",
   "execution_count": 1382,
   "metadata": {
    "collapsed": false
   },
   "outputs": [],
   "source": [
    "# total_passengers = df[ 'PassengerId' ].size   # 전체 승객수\n",
    "# total_survived = df[ 'Survived' ].sum()    # 생존자수\n",
    "\n",
    "# df_male = df[ df[ 'Sex' ] == 'male' ]    # 남자\n",
    "# total_male = df_male[ 'PassengerId' ].size    # 남자의 수\n",
    "# df_male_survived = df_male[ df_male[ 'Survived' ] == 1 ]    # 남자 생존자\n",
    "# count_male_survived = df_male_survived[ 'PassengerId' ].size    # 남자 생존자수\n",
    "\n",
    "# df_female = df[ df[ 'Sex' ] == 'female' ]    # 여자\n",
    "# total_female = df_female[ 'PassengerId' ].size    # 여자의 수\n",
    "# df_female_survived = df_female[ df_female[ 'Survived' ] == 1 ]    # 여자 생존자\n",
    "# count_female_survived = df_female_survived[ 'PassengerId' ].size    # 여자 생존자수"
   ]
  },
  {
   "cell_type": "code",
   "execution_count": 1383,
   "metadata": {
    "collapsed": false
   },
   "outputs": [],
   "source": [
    "# print '승객수 : ', total_passengers, ', 생존자수 : ', total_survived, ', 생존율 : ',\\\n",
    "#       np.float( total_survived )/ np.float( total_passengers), '\\n'\\\n",
    "#       '남자 : ', total_male, ', 남자 생존자수 : ', count_male_survived, ', 남자 생존율 : ',\\\n",
    "#       np.float( count_male_survived )/np.float( total_male ),'\\n'\\\n",
    "#       '여자 : ', total_female, ', 여자 생존자수 : ', count_female_survived, ', 여자 생존율 : ',\\\n",
    "#       np.float( count_female_survived )/np.float( total_female )"
   ]
  },
  {
   "cell_type": "markdown",
   "metadata": {},
   "source": [
    "##KDE\n",
    "\n",
    "KDE에 대한 참고 ('http://darkpgmr.tistory.com/147')\n",
    "\n",
    "KDE를 통해 어떤 해석을 얻어야 할까?"
   ]
  },
  {
   "cell_type": "code",
   "execution_count": 1384,
   "metadata": {
    "collapsed": false
   },
   "outputs": [],
   "source": [
    "# fig_x = plt.figure( figsize = (16.5,4.5) )    # 전체 figure를 선언\n",
    "\n",
    "# ax_x1 = plt.subplot2grid( (1,2), (0,0) )    # plot을 grid에 제공한다\n",
    "# sz_age1 = df[ 'Age' ]    # 나이정보 Series\n",
    "# sz_age1[ df[ 'Pclass' ] == 1 ].plot( kind = 'kde', xlim = ([-5,85]), alpha = alpha_val )    # 1등석인 승객들의 Age에 대한 KDE\n",
    "# sz_age1[ df[ 'Pclass' ] == 2 ].plot( kind = 'kde', xlim = ([-5,85]), alpha = alpha_val )    # 2등석인 승객들의 Age에 대한 KDE\n",
    "# sz_age1[ df[ 'Pclass' ] == 3 ].plot( kind = 'kde', xlim = ([-5,85]), alpha = alpha_val )    # 3등석인 승객들의 Age에 대한 KDE\n",
    "# plt.title( 'Distribution of Age, by class' )    # chart title을 생성한다\n",
    "# plt.legend( ('1st Class', '2nd Class', '3rd Class'), loc = 'best' )\n",
    "\n",
    "# ax_x2 = plt.subplot2grid( (1,2), (0,1) )    # plot을 grid에 제공한다\n",
    "# sz_age2 = df[ 'Age' ]    # 나이정보 Series\n",
    "# sz_age2[ df[ 'Survived' ] == 0 ].plot( kind = 'kde', xlim = ([-5,85]), alpha = alpha_val )    # 사망 승객들의 Age에 대한 KDE\n",
    "# sz_age2[ df[ 'Survived' ] == 1 ].plot( kind = 'kde', xlim = ([-5,85]), alpha = alpha_val )    # 생존 승객들의 Age에 대한 KDE\n",
    "# plt.title( 'Distribution of Age, by survival' )    # chart title을 생성한다\n",
    "# plt.legend( ('Died', 'Alive' ), loc = 'best' )"
   ]
  },
  {
   "cell_type": "markdown",
   "metadata": {},
   "source": [
    "2번째 Plot을 통해, 나이가 어린 경우, 생존 가능성이 높은 것을 알 수 있다."
   ]
  },
  {
   "cell_type": "markdown",
   "metadata": {},
   "source": [
    "##성별에 따른, 생존자수 분석"
   ]
  },
  {
   "cell_type": "code",
   "execution_count": 1385,
   "metadata": {
    "collapsed": false
   },
   "outputs": [],
   "source": [
    "# # 남녀 생존자수를 기반으로 분석한다\n",
    "# fig_sur_by_gen = plt.figure( figsize = (15,3) )    # fig size 정의\n",
    "\n",
    "# # 남자\n",
    "# ax_sur_by_male = plt.subplot2grid( (1,2), (0,0) )    # 표현 data의 위치\n",
    "# sz_survived_male_summary = ( df[ 'Survived' ][ df[ 'Sex' ] == 'male' ] ).value_counts()    # 남자 생존여부 구분\n",
    "# sz_survived_male_summary.rename( index = { 0 : 'Died', 1 : 'Alive' }, inplace = True )\n",
    "# sz_survived_male_summary.sort_index( ascending = True ).plot( kind = 'barh', label = 'male', xlim = ([0,400]), ax = ax_sur_by_male )\n",
    "# plt.title( 'Survived : Male' ); plt.legend( loc = 'best' )\n",
    "# print( sz_survived_male_summary )\n",
    "\n",
    "# # 여자\n",
    "# ax_sur_by_female = plt.subplot2grid( (1,2), (0,1 ) )    # 표현 data의 위치\n",
    "# sz_survived_female_summary = ( df[ 'Survived' ][ df[ 'Sex' ] == 'female' ] ).value_counts()    # 여자 생존여부 구분\n",
    "# sz_survived_female_summary.rename( index = { 0 : 'Died', 1 : 'Alive' }, inplace = True )\n",
    "# sz_survived_female_summary.sort_index( ascending = True ).plot( kind = 'barh', color = 'red', label = 'female', xlim = ([0,400]), ax = ax_sur_by_female )\n",
    "# plt.title( 'Survived : Female' ); plt.legend( loc = 'best' )\n",
    "# print( sz_survived_female_summary )"
   ]
  },
  {
   "cell_type": "markdown",
   "metadata": {},
   "source": [
    "여자의 경우, 생존자가 많다"
   ]
  },
  {
   "cell_type": "markdown",
   "metadata": {},
   "source": [
    "##성별에 따른, 생존률 분석"
   ]
  },
  {
   "cell_type": "code",
   "execution_count": 1386,
   "metadata": {
    "collapsed": false
   },
   "outputs": [],
   "source": [
    "# # 남녀 각각의 생존률을 기반으로 분석한다\n",
    "# fig_sur_prop_by_gen = plt.figure( figsize = (15,7) )    # fig size 정의\n",
    "# # 남자\n",
    "# ax_sur_prop_by_male = plt.subplot2grid( (2,2), (1,0) )    # 표현 data의 위치\n",
    "# sz_survived_male_summary = ( df[ 'Survived' ][ df[ 'Sex' ] == 'male' ] ).value_counts()    # 남자 생존여부 구분\n",
    "# sz_survived_male_summary.rename( index = { 0 : 'Died', 1 : 'Alive' }, inplace = True )\n",
    "# ( sz_survived_male_summary/np.float( df_male[ 'PassengerId' ].size ) ).sort_index( ascending = True ).plot( kind = 'barh', label = 'male', xlim = ([0,0.8]), ax = ax_sur_prop_by_male )\n",
    "# plt.title( 'Survived % : Male' ); plt.legend( loc = 'best' )\n",
    "# print( 'Male Alive % : ', ( sz_survived_male_summary/np.float( df_male[ 'PassengerId' ].size ) ).ix[ 'Alive' ] )\n",
    "\n",
    "# # 여자\n",
    "# ax_sur_prop_by_female = plt.subplot2grid( (2,2), (1,1) )    # 표현 data의 위치\n",
    "# sz_survived_female_summary = ( df[ 'Survived' ][ df[ 'Sex' ] == 'female' ] ).value_counts()    # 여자 생존여부 구분\n",
    "# sz_survived_female_summary.rename( index = { 0 : 'Died', 1 : 'Alive' }, inplace = True )\n",
    "# ( sz_survived_female_summary/np.float( df_female[ 'PassengerId' ].size ) ).sort_index( ascending = True ).plot( kind = 'barh', label = 'female', xlim = ([0,0.8]), ax = ax_sur_prop_by_female, color = 'red' )\n",
    "# plt.title( 'Survived % : Female' ); plt.legend( loc = 'best' )\n",
    "# print( 'Female Alive % : ', ( sz_survived_female_summary/np.float( df_female[ 'PassengerId' ].size ) ).ix[ 'Alive' ] )"
   ]
  },
  {
   "cell_type": "markdown",
   "metadata": {},
   "source": [
    "* 요약하면,\n",
    "* 남자들의 경우, 생존자 << 사망자\n",
    "* 여자들의 경우, 생존자 >> 사망자\n",
    "\n",
    "임을 알 수 있다.\n",
    "\n",
    "**<font color = 'red'>즉, 성별은 생존률과 관련성이 있음을 알 수 있다. 여자는 생존가능성이 높다</font>**"
   ]
  },
  {
   "cell_type": "markdown",
   "metadata": {},
   "source": [
    "##좌석등급에 따른, 생존률 분석"
   ]
  },
  {
   "cell_type": "code",
   "execution_count": 1387,
   "metadata": {
    "collapsed": false
   },
   "outputs": [],
   "source": [
    "# # 좌석등급 생존자수를 기반으로 분석한다\n",
    "# fig_sur_by_pclass = plt.figure( figsize = (15,4) )    # fig size 정의\n",
    "\n",
    "# # 1등급\n",
    "# sz_survived_pclass1_summary = ( df[ 'Survived' ][ df[ 'Pclass' ] == 1 ] ).value_counts()    # 1등급 좌석 생존 요약\n",
    "# ax_sur_by_class1 = plt.subplot2grid( (1,3), (0,0) )    # 표현 data의 위치\n",
    "# sz_survived_pclass1_summary.rename( index = { 0 : 'Died', 1 : 'Alive' }, inplace = True )\n",
    "# sz_survived_pclass1_summary.sort_index().plot( kind = 'bar', label = '1st', ylim = ([0,300]), ax = ax_sur_by_class1 )\n",
    "# plt.title( 'Survived : 1st' )\n",
    "# print( sz_survived_pclass1_summary )\n",
    "\n",
    "# # 2등급\n",
    "# sz_survived_pclass2_summary = ( df[ 'Survived' ][ df[ 'Pclass' ] == 2 ] ).value_counts()    # 2등급 좌석 생존 요약\n",
    "# ax_sur_by_class2 = plt.subplot2grid( (1,3), (0,1) )    # 표현 data의 위치\n",
    "# sz_survived_pclass2_summary.rename( index = { 0 : 'Died', 1 : 'Alive' }, inplace = True )\n",
    "# sz_survived_pclass2_summary.sort_index().plot( kind = 'bar', label = '2nd', ylim = ([0,300]), ax = ax_sur_by_class2, color = 'pink' )\n",
    "# plt.title( 'Survived : 2nd' )\n",
    "# print( sz_survived_pclass2_summary )\n",
    "\n",
    "# # 3등급\n",
    "# sz_survived_pclass3_summary = ( df[ 'Survived' ][ df[ 'Pclass' ] == 3 ] ).value_counts()    # 2등급 좌석 생존 요약\n",
    "# ax_sur_by_class3 = plt.subplot2grid( (1,3), (0,2) )    # 표현 data의 위치\n",
    "# sz_survived_pclass3_summary.rename( index = { 0 : 'Died', 1 : 'Alive' }, inplace = True )\n",
    "# sz_survived_pclass3_summary.sort_index().plot( kind = 'bar', label = '1st', ylim = ([0,300]), ax = ax_sur_by_class3, color = 'black' )\n",
    "# plt.title( 'Survived : 3rd' )\n",
    "# print( sz_survived_pclass3_summary )"
   ]
  },
  {
   "cell_type": "markdown",
   "metadata": {},
   "source": [
    "* 1등석은 생존자 > 사망자, 2등석은 비슷하고, 3등석은 사망자 >> 생존자이다.\n",
    "\n",
    "**<font color='red'>즉, 3등석은 사망확률이 높다</font>**"
   ]
  },
  {
   "cell_type": "code",
   "execution_count": 1388,
   "metadata": {
    "collapsed": false
   },
   "outputs": [],
   "source": [
    "# # 좌석등급 각각의 생존률을 기반으로 분석한다\n",
    "# fig_sur_prop_by_pclass = plt.figure( figsize = (15,4) )    # fig size 정의\n",
    "\n",
    "# # 1등급\n",
    "# sz_sur_pclass1 = df[ 'Survived' ][ df[ 'Pclass' ] == 1 ]    # 1등급 Series raw data\n",
    "# sz_sur_prop_pclass1_summary = sz_sur_pclass1.value_counts()/( np.float( sz_sur_pclass1.size ) ) # groupby후 %\n",
    "# ax_sur_prop_by_class1 = plt.subplot2grid( (1,3), (0,0) )    # 표현 data의 위치\n",
    "# sz_sur_prop_pclass1_summary.rename( index = { 0 : 'Died', 1 : 'Alive' }, inplace = True )\n",
    "# sz_sur_prop_pclass1_summary.sort_index().plot( kind = 'bar', label = '1st', ylim = ([0,0.8]), ax = ax_sur_prop_by_class1 )\n",
    "# plt.title( 'Survived % : 1st' )\n",
    "# print( '1st Alive % : ', sz_sur_prop_pclass1_summary.ix[ 'Alive' ] )\n",
    "\n",
    "# # 2등급\n",
    "# sz_sur_pclass2 = df[ 'Survived' ][ df[ 'Pclass' ] == 2 ]    # 2등급 Series raw data\n",
    "# sz_sur_prop_pclass2_summary = sz_sur_pclass2.value_counts()/( np.float( sz_sur_pclass2.size ) ) # groupby후 %\n",
    "# ax_sur_prop_by_class2 = plt.subplot2grid( (1,3), (0,1) )    # 표현 data의 위치\n",
    "# sz_sur_prop_pclass2_summary.rename( index = { 0 : 'Died', 1 : 'Alive' }, inplace = True )\n",
    "# sz_sur_prop_pclass2_summary.sort_index().plot( kind = 'bar', label = '2nd', ylim = ([0,0.8]), ax = ax_sur_prop_by_class2, color = 'pink' )\n",
    "# plt.title( 'Survived % : 2nd' )\n",
    "# print( '2nd Alive % : ', sz_sur_prop_pclass2_summary.ix[ 'Alive' ] )\n",
    "\n",
    "# # # 3등급\n",
    "# sz_sur_pclass3 = df[ 'Survived' ][ df[ 'Pclass' ] == 3 ]    # 3등급 Series raw data\n",
    "# sz_sur_prop_pclass3_summary = sz_sur_pclass3.value_counts()/( np.float( sz_sur_pclass3.size ) ) # groupby후 %\n",
    "# ax_sur_prop_by_class3 = plt.subplot2grid( (1,3), (0,2) )    # 표현 data의 위치\n",
    "# sz_sur_prop_pclass3_summary.rename( index = { 0 : 'Died', 1 : 'Alive' }, inplace = True )\n",
    "# sz_sur_prop_pclass3_summary.sort_index().plot( kind = 'bar', label = '3rd', ylim = ([0,0.8]), ax = ax_sur_prop_by_class3, color = 'black' )\n",
    "# plt.title( 'Survived % : 3rd' )\n",
    "# print( '3rd Alive % : ', sz_sur_prop_pclass3_summary.ix[ 'Alive' ] )"
   ]
  },
  {
   "cell_type": "markdown",
   "metadata": {},
   "source": [
    "* 1등석은 생존자 > 사망자, 2등석은 비슷하고, 3등석은 사망자 >> 생존자이다.\n",
    "\n",
    "**<font color='red'>즉, 3등석은 사망확률이 높다</font>**\n",
    "\n",
    "**<font color='red'>그리고, 1등석은 생존확률이 높다</font>**"
   ]
  },
  {
   "cell_type": "markdown",
   "metadata": {},
   "source": [
    "###여기까지 정리하면, 여자 w/ 1등석 >>> 남자 w/ 3등석의 형태로 생존확률은 높아질 것이다."
   ]
  },
  {
   "cell_type": "code",
   "execution_count": 1389,
   "metadata": {
    "collapsed": false
   },
   "outputs": [],
   "source": [
    "# # 좌석등급별 성별따른 각각의 생존률을 기반으로 분석한다\n",
    "# fig_pclass1 = plt.figure( figsize = (15,4) )    # fig size 정의\n",
    "\n",
    "# # 1등급, 여자\n",
    "# sz_pclass1_f = df[ 'Survived' ][ ( df[ 'Pclass' ] == 1 ) & ( df[ 'Sex' ] == 'female' ) ]    # 1등급, 여자\n",
    "# sz_pclass1_f_summary = sz_pclass1_f.value_counts()/( np.float( sz_pclass1_f.size ) )    # groupby후 %\n",
    "# sz_pclass1_f_summary\n",
    "# ax_pclass1_f = plt.subplot2grid( (1,6), (0,0) )    # 표현 data의 위치\n",
    "# sz_pclass1_f_summary.rename( index = { 0 : 'Died', 1 : 'Alive' }, inplace = True )\n",
    "# sz_pclass1_f_summary.sort_index().plot( kind = 'bar', label = '1st w/ female', ylim = ([0,1]), ax = ax_pclass1_f, color = 'red' )\n",
    "# plt.title( '1st Female' )\n",
    "# print( '1st Female : ', sz_pclass1_f_summary.ix[ 'Alive' ] )\n",
    "\n",
    "# # 1등급, 남자\n",
    "# sz_pclass1_m = df[ 'Survived' ][ ( df[ 'Pclass' ] == 1 ) & ( df[ 'Sex' ] == 'male' ) ]    # 1등급, 남자\n",
    "# sz_pclass1_m_summary = sz_pclass1_m.value_counts()/( np.float( sz_pclass1_m.size ) )    # groupby후 %\n",
    "# ax_pclass1_m = plt.subplot2grid( (1,6), (0,1) )    # 표현 data의 위치\n",
    "# sz_pclass1_m_summary.rename( index = { 0 : 'Died', 1 : 'Alive' }, inplace = True )\n",
    "# sz_pclass1_m_summary.sort_index().plot( kind = 'bar', label = '1st w/ male', ylim = ([0,1]), ax = ax_pclass1_m )\n",
    "# plt.title( '1st male' )\n",
    "# print( '1st Male : ', sz_pclass1_m_summary.ix[ 'Alive' ] )\n",
    "\n",
    "# # 2등급, 여자\n",
    "# sz_pclass2_f = df[ 'Survived' ][ ( df[ 'Pclass' ] == 2 ) & ( df[ 'Sex' ] == 'female' ) ]    # 2등급, 여자\n",
    "# sz_pclass2_f_summary = sz_pclass2_f.value_counts()/( np.float( sz_pclass2_f.size ) )    # groupby후 %\n",
    "# sz_pclass2_f_summary\n",
    "# sz_pclass2_f = plt.subplot2grid( (1,6), (0,2) )    # 표현 data의 위치\n",
    "# sz_pclass2_f_summary.rename( index = { 0 : 'Died', 1 : 'Alive' }, inplace = True )\n",
    "# sz_pclass2_f_summary.sort_index().plot( kind = 'bar', label = '2nd w/ female', ylim = ([0,1]), ax = sz_pclass2_f, color = 'red' )\n",
    "# plt.title( '2nd Female' )\n",
    "# print( '2nd Female : ', sz_pclass2_f_summary.ix[ 'Alive' ] )\n",
    "\n",
    "# # 2등급, 남자\n",
    "# sz_pclass2_m = df[ 'Survived' ][ ( df[ 'Pclass' ] == 2 ) & ( df[ 'Sex' ] == 'male' ) ]    # 2등급, 남자\n",
    "# sz_pclass2_m_summary = sz_pclass2_m.value_counts()/( np.float( sz_pclass2_m.size ) )    # groupby후 %\n",
    "# ax_pclass2_m = plt.subplot2grid( (1,6), (0,3) )    # 표현 data의 위치\n",
    "# sz_pclass2_m_summary.rename( index = { 0 : 'Died', 1 : 'Alive' }, inplace = True )\n",
    "# sz_pclass2_m_summary.sort_index().plot( kind = 'bar', label = '2nd w/ male', ylim = ([0,1]), ax = ax_pclass2_m )\n",
    "# plt.title( '2nd male' )\n",
    "# print( '2nd Male : ', sz_pclass2_m_summary.ix[ 'Alive' ] )\n",
    "\n",
    "# # 3등급, 여자\n",
    "# sz_pclass3_f = df[ 'Survived' ][ ( df[ 'Pclass' ] == 3 ) & ( df[ 'Sex' ] == 'female' ) ]    # 3등급, 여자\n",
    "# sz_pclass3_f_summary = sz_pclass3_f.value_counts()/( np.float( sz_pclass3_f.size ) )    # groupby후 %\n",
    "# sz_pclass3_f_summary\n",
    "# sz_pclass3_f = plt.subplot2grid( (1,6), (0,4) )    # 표현 data의 위치\n",
    "# sz_pclass3_f_summary.rename( index = { 0 : 'Died', 1 : 'Alive' }, inplace = True )\n",
    "# sz_pclass3_f_summary.sort_index().plot( kind = 'bar', label = '3rd w/ female', ylim = ([0,1]), ax = sz_pclass3_f, color = 'red' )\n",
    "# plt.title( '3rd Female' )\n",
    "# print( '3rd Female : ', sz_pclass3_f_summary.ix[ 'Alive' ] )\n",
    "\n",
    "# # 3등급, 남자\n",
    "# sz_pclass3_m = df[ 'Survived' ][ ( df[ 'Pclass' ] == 3 ) & ( df[ 'Sex' ] == 'male' ) ]    # 3등급, 남자\n",
    "# sz_pclass3_m_summary = sz_pclass3_m.value_counts()/( np.float( sz_pclass3_m.size ) )    # groupby후 %\n",
    "# ax_pclass3_m = plt.subplot2grid( (1,6), (0,5) )    # 표현 data의 위치\n",
    "# sz_pclass3_m_summary.rename( index = { 0 : 'Died', 1 : 'Alive' }, inplace = True )\n",
    "# sz_pclass3_m_summary.sort_index().plot( kind = 'bar', label = '2nd w/ male', ylim = ([0,1]), ax = ax_pclass3_m )\n",
    "# plt.title( '3rd male' )\n",
    "# print( '3rd Male : ', sz_pclass3_m_summary.ix[ 'Alive' ] )"
   ]
  },
  {
   "cell_type": "markdown",
   "metadata": {},
   "source": [
    "- <font color = 'blue'>정리하면, 생존률은</font>\n",
    "- <font color = 'blue'>1등석 여성, 2등석 여성, 3등석 여성, 1등석 남성, 2/3등석 남성순이다.</font>\n",
    "\n",
    "- <font color = 'red'>마찬가지로, 사망률은</font>\n",
    "- <font color = 'red'>2/3등석 남성, 1등석 남성, 3등석 여성, 2등석 여성, 1등석 여성순이다.</font>"
   ]
  },
  {
   "cell_type": "markdown",
   "metadata": {},
   "source": [
    "##SibSp/ Prch의 수와 생존률"
   ]
  },
  {
   "cell_type": "code",
   "execution_count": 1390,
   "metadata": {
    "collapsed": false
   },
   "outputs": [],
   "source": [
    "# # SibSp별 생존률\n",
    "# sz_all_count = df.groupby( 'SibSp' ).count()[ 'Pclass' ]\n",
    "# sz_alive_count = df.groupby( 'SibSp' ).sum()[ 'Survived' ]\n",
    "# df_suvival_rate = pd.DataFrame( data = sz_all_count )\n",
    "# df_suvival_rate[ 'Alive' ] = sz_alive_count\n",
    "# df_suvival_rate[ 'Rate' ] = df_suvival_rate[ 'Alive' ] / df_suvival_rate[ 'Pclass' ]\n",
    "\n",
    "# # SibSp/ Parch 각각의 생존률을 기반으로 분석한다\n",
    "# fig_pclass1 = plt.figure( figsize = (15,4) )    # fig size 정의\n",
    "\n",
    "# # SibSp별 생존률 plot\n",
    "# ax_pclass1_f = plt.subplot2grid( (1,2), (0,0) )    # 표현 data의 위치\n",
    "# df_suvival_rate[ 'Rate' ].plot( kind = 'bar', ylim = ([0,.6]), ax = ax_pclass1_f )\n",
    "# plt.title( 'Alive Rate by SibSp' )\n",
    "\n",
    "# # Parch별 생존률\n",
    "# sz_all_count = df.groupby( 'Parch' ).count()[ 'Pclass' ]\n",
    "# sz_alive_count = df.groupby( 'Parch' ).sum()[ 'Survived' ]\n",
    "# df_suvival_rate = pd.DataFrame( data = sz_all_count )\n",
    "# df_suvival_rate[ 'Alive' ] = sz_alive_count\n",
    "# df_suvival_rate[ 'Rate' ] = df_suvival_rate[ 'Alive' ] / df_suvival_rate[ 'Pclass' ]\n",
    "\n",
    "# # Parch별 생존률 plot\n",
    "# ax_pclass1_f = plt.subplot2grid( (1,2), (0,1) )    # 표현 data의 위치\n",
    "# df_suvival_rate[ 'Rate' ].plot( kind = 'bar', ylim = ([0,.7]), ax = ax_pclass1_f )\n",
    "# plt.title( 'Alive Rate by Prch' )"
   ]
  },
  {
   "cell_type": "markdown",
   "metadata": {},
   "source": [
    "##이러한 기본적 이해를 바탕으로 Prediction 진행"
   ]
  },
  {
   "cell_type": "code",
   "execution_count": 1391,
   "metadata": {
    "collapsed": false
   },
   "outputs": [],
   "source": [
    "from IPython.display import Image\n",
    "# Image( filename = './images/sklearn.ml.map.png', width = 1000, height = 550 )\n",
    "# Image?"
   ]
  },
  {
   "cell_type": "markdown",
   "metadata": {},
   "source": [
    "- 위를 보면, 일단은 Titanic은 Classification 계열의 문제정의이며, LinearSVC로 수행가능할 것으로 보인다\n",
    "- 이후, KNN 및 Ensemble 계열의 Classification (즉, RandomForest)를 적용가능하다\n",
    "- PCA 진행여부도 판단할 것"
   ]
  },
  {
   "cell_type": "markdown",
   "metadata": {},
   "source": [
    "##4. Train data에 대한 vectorization"
   ]
  },
  {
   "cell_type": "code",
   "execution_count": 1392,
   "metadata": {
    "collapsed": false
   },
   "outputs": [],
   "source": [
    "# df.head()"
   ]
  },
  {
   "cell_type": "code",
   "execution_count": 1393,
   "metadata": {
    "collapsed": false
   },
   "outputs": [],
   "source": [
    "# df.shape"
   ]
  },
  {
   "cell_type": "markdown",
   "metadata": {},
   "source": [
    "Name feature를 Family name으로 활용해보고자 한다."
   ]
  },
  {
   "cell_type": "code",
   "execution_count": 1394,
   "metadata": {
    "collapsed": false
   },
   "outputs": [],
   "source": [
    "df[ 'Name' ] = df[ 'Name' ].str.split( ',' ).str[0]    # \n",
    "# df.head()"
   ]
  },
  {
   "cell_type": "markdown",
   "metadata": {},
   "source": [
    "주어진 Dataset의 feature들을 보면,\n",
    "\n",
    "1. PassengerId, Survived, Pclass, Age, SibSp, Parch, Fare는 numeric\n",
    "\n",
    "2. Name, Sex, Embarked, Ticket은 string\n",
    "\n",
    "Prediction 진행을 위해서는 Name, Sex, Ticket, Embarked와 같은 categorical string을 numeric으로 변환해야 한다."
   ]
  },
  {
   "cell_type": "code",
   "execution_count": 1395,
   "metadata": {
    "collapsed": false
   },
   "outputs": [],
   "source": [
    "# from sklearn import preprocessing\n",
    "\n",
    "# # Name : 이름정보 변경\n",
    "# le_name = preprocessing.LabelEncoder()    # Name 정보를 위한, label Encoder 생성\n",
    "# df[ 'Name' ] = le_name.fit_transform( df[ 'Name' ] )    # le를 fit/ transforming\n",
    "# # df[ 'Name' ] = le_name.inverse_transform( df[ 'Name' ] )    # 이후에, 원상태 복귀를 위한 code\n",
    "\n",
    "# # Sex : 성별정보 변경\n",
    "# le_sex = preprocessing.LabelEncoder()    # Sex 정보를 위한, label Encoder 생성\n",
    "# df[ 'Sex' ] = le_sex.fit_transform( df[ 'Sex' ] )    # le를 fit/ transforming\n",
    "# # df[ 'Sex' ] = le_embarked.inverse_transform( df[ 'Sex' ] )    # 이후에, 원상태 복귀를 위한 code\n",
    "\n",
    "# # Ticket : Ticket정보 변경\n",
    "# le_ticket = preprocessing.LabelEncoder()    # Ticket 정보를 위한, Label Encoder 생성\n",
    "# df[ 'Ticket' ] = le_ticket.fit_transform( df[ 'Ticket' ] )    # le를 fit/ transforming\n",
    "# # df[ 'Ticket' ] = le_ticket.inverse_transform( df[ 'Ticket' ] )    # 이후에, 원상태 복귀를 위한 code\n",
    "\n",
    "# # Cabin : Cabin정보 변경\n",
    "# le_cabin = preprocessing.LabelEncoder()    # Cabin 정보를 위한, Label Encoder 생성\n",
    "# df[ 'Cabin' ] = le_cabin.fit_transform( df[ 'Cabin' ] )    # le를 fit/ transforming\n",
    "# # df[ 'Cabin' ] = le_cabin.inverse_transform( df[ 'Cabin' ] )    # 이후에, 원상태 복귀를 위한 code\n",
    "\n",
    "# # Embarked : 승선지정보 변경\n",
    "# le_embarked = preprocessing.LabelEncoder()    # Embarked 정보를 위한, Label Encoder 생성\n",
    "# df[ 'Embarked' ] = le_embarked.fit_transform( df[ 'Embarked' ] )    # le를 fit/ transforming\n",
    "# # df[ 'Embarked' ] = le_embarked.inverse_transform( df[ 'Embarked' ] )    # 이후에, 원상태 복귀를 위한 code\n",
    "\n",
    "# df.head()"
   ]
  },
  {
   "cell_type": "markdown",
   "metadata": {},
   "source": [
    "Prediction 진행시, PassenderId, Ticket은 의미가 없으므로 제거한후, Training dataset을 확보한다\n",
    "##<font color='red'>Training dataset (Vectorized)</font>"
   ]
  },
  {
   "cell_type": "code",
   "execution_count": 1396,
   "metadata": {
    "collapsed": false
   },
   "outputs": [],
   "source": [
    "# df.count()"
   ]
  },
  {
   "cell_type": "code",
   "execution_count": 1397,
   "metadata": {
    "collapsed": false
   },
   "outputs": [],
   "source": [
    "# df.drop( [ 'PassengerId', 'Ticket' ], axis = 1, inplace = True )    # PassengerId feature를 drop\n",
    "df.drop( [ 'PassengerId' ], axis = 1, inplace = True )    # PassengerId feature를 drop\n",
    "# df.head()"
   ]
  },
  {
   "cell_type": "markdown",
   "metadata": {},
   "source": [
    "- Dataframe을 Data와 Target으로 분리한다.\n",
    "- Target인 y는 생존여부를 의미하는 Survived\n",
    "- Data인 X는 생존여부 y를 결정하는 다양한 features인 Pclass, Sex, Age, SibSp, Parch, Fare, Embarked"
   ]
  },
  {
   "cell_type": "markdown",
   "metadata": {},
   "source": [
    "##5. Test data 확보/ Cleansing/ 누락분 처리"
   ]
  },
  {
   "cell_type": "markdown",
   "metadata": {},
   "source": [
    "##Test dataset을 가지고 Cleansing후 prediction을 수행한다.\n",
    "###Test dataset을 확보"
   ]
  },
  {
   "cell_type": "code",
   "execution_count": 1398,
   "metadata": {
    "collapsed": false
   },
   "outputs": [],
   "source": [
    "# data를 확보한다.\n",
    "# df_test = pd.read_csv( './dataset/test.csv' )    # data를 읽어들인다.\n",
    "# df_test.head()    # 대략적 내용을 파악한다."
   ]
  },
  {
   "cell_type": "markdown",
   "metadata": {},
   "source": [
    "###의미없는 Feature를 제거"
   ]
  },
  {
   "cell_type": "code",
   "execution_count": 1399,
   "metadata": {
    "collapsed": false
   },
   "outputs": [],
   "source": [
    "# df_test.head( 1 )"
   ]
  },
  {
   "cell_type": "code",
   "execution_count": 1400,
   "metadata": {
    "collapsed": false
   },
   "outputs": [],
   "source": [
    "sz_passender_id = df_test[ 'PassengerId' ]    # 답안제출 제공형식에는 PassenderId별 Survived가 제공되어야 하므로, 이를 백업\n",
    "\n",
    "# df_test.drop( [ 'PassengerId', 'Name', 'Ticket', 'Cabin', 'Fare', 'Embarked' ], axis = 1, inplace = True )\n",
    "# df_test.drop( [ 'PassengerId', 'Name', 'Ticket', 'Cabin' ], axis = 1, inplace = True )\n",
    "df_test.drop( [ 'PassengerId' ], axis = 1, inplace = True )\n",
    "df_test[ 'Name' ] = df_test[ 'Name' ].str.split( ',' ).str[0]\n",
    "\n",
    "# df_test.head()"
   ]
  },
  {
   "cell_type": "markdown",
   "metadata": {},
   "source": [
    "###Categorical data의 Label Encoding 수행"
   ]
  },
  {
   "cell_type": "code",
   "execution_count": 1401,
   "metadata": {
    "collapsed": true
   },
   "outputs": [],
   "source": [
    "df_test[ 'Cabin' ].fillna( 'cabin_X', inplace = True )"
   ]
  },
  {
   "cell_type": "code",
   "execution_count": 1402,
   "metadata": {
    "collapsed": false
   },
   "outputs": [
    {
     "data": {
      "text/html": [
       "<div style=\"max-height:1000px;max-width:1500px;overflow:auto;\">\n",
       "<table border=\"1\" class=\"dataframe\">\n",
       "  <thead>\n",
       "    <tr style=\"text-align: right;\">\n",
       "      <th></th>\n",
       "      <th>Pclass</th>\n",
       "      <th>Name</th>\n",
       "      <th>Sex</th>\n",
       "      <th>Age</th>\n",
       "      <th>SibSp</th>\n",
       "      <th>Parch</th>\n",
       "      <th>Ticket</th>\n",
       "      <th>Fare</th>\n",
       "      <th>Cabin</th>\n",
       "      <th>Embarked</th>\n",
       "    </tr>\n",
       "  </thead>\n",
       "  <tbody>\n",
       "    <tr>\n",
       "      <th>0</th>\n",
       "      <td> 3</td>\n",
       "      <td> 172</td>\n",
       "      <td> 1</td>\n",
       "      <td> 34.5</td>\n",
       "      <td> 0</td>\n",
       "      <td> 0</td>\n",
       "      <td> 152</td>\n",
       "      <td>  7.8292</td>\n",
       "      <td> 76</td>\n",
       "      <td> 1</td>\n",
       "    </tr>\n",
       "    <tr>\n",
       "      <th>1</th>\n",
       "      <td> 3</td>\n",
       "      <td> 339</td>\n",
       "      <td> 0</td>\n",
       "      <td> 47.0</td>\n",
       "      <td> 1</td>\n",
       "      <td> 0</td>\n",
       "      <td> 221</td>\n",
       "      <td>  7.0000</td>\n",
       "      <td> 76</td>\n",
       "      <td> 2</td>\n",
       "    </tr>\n",
       "    <tr>\n",
       "      <th>2</th>\n",
       "      <td> 2</td>\n",
       "      <td> 231</td>\n",
       "      <td> 1</td>\n",
       "      <td> 62.0</td>\n",
       "      <td> 0</td>\n",
       "      <td> 0</td>\n",
       "      <td>  73</td>\n",
       "      <td>  9.6875</td>\n",
       "      <td> 76</td>\n",
       "      <td> 1</td>\n",
       "    </tr>\n",
       "    <tr>\n",
       "      <th>3</th>\n",
       "      <td> 3</td>\n",
       "      <td> 344</td>\n",
       "      <td> 1</td>\n",
       "      <td> 27.0</td>\n",
       "      <td> 0</td>\n",
       "      <td> 0</td>\n",
       "      <td> 147</td>\n",
       "      <td>  8.6625</td>\n",
       "      <td> 76</td>\n",
       "      <td> 2</td>\n",
       "    </tr>\n",
       "    <tr>\n",
       "      <th>4</th>\n",
       "      <td> 3</td>\n",
       "      <td> 150</td>\n",
       "      <td> 0</td>\n",
       "      <td> 22.0</td>\n",
       "      <td> 1</td>\n",
       "      <td> 1</td>\n",
       "      <td> 138</td>\n",
       "      <td> 12.2875</td>\n",
       "      <td> 76</td>\n",
       "      <td> 2</td>\n",
       "    </tr>\n",
       "  </tbody>\n",
       "</table>\n",
       "</div>"
      ],
      "text/plain": [
       "   Pclass  Name  Sex   Age  SibSp  Parch  Ticket     Fare  Cabin  Embarked\n",
       "0       3   172    1  34.5      0      0     152   7.8292     76         1\n",
       "1       3   339    0  47.0      1      0     221   7.0000     76         2\n",
       "2       2   231    1  62.0      0      0      73   9.6875     76         1\n",
       "3       3   344    1  27.0      0      0     147   8.6625     76         2\n",
       "4       3   150    0  22.0      1      1     138  12.2875     76         2"
      ]
     },
     "execution_count": 1402,
     "metadata": {},
     "output_type": "execute_result"
    }
   ],
   "source": [
    "from sklearn import preprocessing\n",
    "\n",
    "# Name : 이름정보 변경\n",
    "le_name = preprocessing.LabelEncoder()    # Name 정보를 위한, label Encoder 생성\n",
    "df[ 'Name' ] = le_name.fit_transform( df[ 'Name' ] )    # le를 fit/ transforming\n",
    "le_name = preprocessing.LabelEncoder()    # Name 정보를 위한, label Encoder 생성\n",
    "df_test[ 'Name' ] = le_name.fit_transform( df_test[ 'Name' ] )    # le를 fit/ transforming\n",
    "# df[ 'Name' ] = le_name.inverse_transform( df[ 'Name' ] )    # 이후에, 원상태 복귀를 위한 code\n",
    "\n",
    "# Sex : 성별정보 변경\n",
    "le_sex = preprocessing.LabelEncoder()    # Sex 정보를 위한, label Encoder 생성\n",
    "df[ 'Sex' ] = le_sex.fit_transform( df[ 'Sex' ] )    # le를 fit/ transforming\n",
    "le_sex = preprocessing.LabelEncoder()    # Sex 정보를 위한, label Encoder 생성\n",
    "df_test[ 'Sex' ] = le_sex.fit_transform( df_test[ 'Sex' ] )    # le를 fit/ transforming\n",
    "# df[ 'Sex' ] = le_embarked.inverse_transform( df[ 'Sex' ] )    # 이후에, 원상태 복귀를 위한 code\n",
    "\n",
    "# Ticket : Ticket정보 변경\n",
    "le_ticket = preprocessing.LabelEncoder()    # Ticket 정보를 위한, Label Encoder 생성\n",
    "df[ 'Ticket' ] = le_ticket.fit_transform( df[ 'Ticket' ] )    # le를 fit/ transforming\n",
    "le_ticket = preprocessing.LabelEncoder()    # Ticket 정보를 위한, Label Encoder 생성\n",
    "df_test[ 'Ticket' ] = le_ticket.fit_transform( df_test[ 'Ticket' ] )    # le를 fit/ transforming\n",
    "# df[ 'Ticket' ] = le_ticket.inverse_transform( df[ 'Ticket' ] )    # 이후에, 원상태 복귀를 위한 code\n",
    "\n",
    "# Cabin : Cabin정보 변경\n",
    "le_cabin = preprocessing.LabelEncoder()    # Cabin 정보를 위한, Label Encoder 생성\n",
    "df[ 'Cabin' ] = le_cabin.fit_transform( df[ 'Cabin' ] )    # le를 fit/ transforming\n",
    "le_cabin = preprocessing.LabelEncoder()    # Cabin 정보를 위한, Label Encoder 생성\n",
    "df_test[ 'Cabin' ] = le_cabin.fit_transform( df_test[ 'Cabin' ] )    # le를 fit/ transforming\n",
    "# df[ 'Cabin' ] = le_cabin.inverse_transform( df[ 'Cabin' ] )    # 이후에, 원상태 복귀를 위한 code\n",
    "\n",
    "# Embarked : 승선지정보 변경\n",
    "le_embarked = preprocessing.LabelEncoder()    # Embarked 정보를 위한, Label Encoder 생성\n",
    "df[ 'Embarked' ] = le_embarked.fit_transform( df[ 'Embarked' ] )    # le를 fit/ transforming\n",
    "le_embarked = preprocessing.LabelEncoder()    # Embarked 정보를 위한, Label Encoder 생성\n",
    "df_test[ 'Embarked' ] = le_embarked.fit_transform( df_test[ 'Embarked' ] )    # le를 fit/ transforming\n",
    "# df[ 'Embarked' ] = le_embarked.inverse_transform( df[ 'Embarked' ] )    # 이후에, 원상태 복귀를 위한 code\n",
    "\n",
    "df.head()\n",
    "df_test.head()"
   ]
  },
  {
   "cell_type": "code",
   "execution_count": 1403,
   "metadata": {
    "collapsed": false
   },
   "outputs": [],
   "source": [
    "# df_test.count()    # None, NaN 존재여부를 Check한다."
   ]
  },
  {
   "cell_type": "code",
   "execution_count": 1404,
   "metadata": {
    "collapsed": false
   },
   "outputs": [],
   "source": [
    "# df_test[ df_test[ 'Fare' ].isnull() ]"
   ]
  },
  {
   "cell_type": "markdown",
   "metadata": {},
   "source": [
    "##<font color = 'red'>**누락값을 항상 채워둔다**</font>\n",
    "\n",
    "###Fare 누락값 처리\n",
    "Fare에 누락이 있으므로, 이를 처리해야 한다.\n",
    "\n",
    "Fare는 1개 누락이므로, Fare 누락값을 처리하기 위해 Training + test data를 통해 추정.\n",
    "\n",
    "그 전에, 우선 각 Embarked별로 Pclass와 Fare간의 상관관계를 보자."
   ]
  },
  {
   "cell_type": "code",
   "execution_count": 1405,
   "metadata": {
    "collapsed": false
   },
   "outputs": [],
   "source": [
    "# fig_survival_n_fare = plt.figure( figsize = (15,4) )    # fig size 정의\n",
    "\n",
    "# ax_survival_n_fare = plt.subplot2grid( (1,2), (0,0) )    # 표현 data의 위치\n",
    "# plt.scatter( x = df[ 'Fare' ], y = df[ 'Survived' ], alpha = alpha_val )\n",
    "# plt.xlabel( 'Fare' ); plt.ylabel( 'Survived' ); plt.title( 'Fare-Survived' )"
   ]
  },
  {
   "cell_type": "code",
   "execution_count": 1406,
   "metadata": {
    "collapsed": false
   },
   "outputs": [],
   "source": [
    "# fig_pclass_n_fare = plt.figure( figsize = (15,4) )    # fig size 정의\n",
    "\n",
    "# sz_pclass = df[ 'Pclass' ][ df[ 'Embarked' ] == 0 ]\n",
    "# sz_fare = df[ 'Fare' ][ df[ 'Embarked' ] == 0 ]\n",
    "# ax_pclass_n_fare = plt.subplot2grid( (1,3), (0,0) )    # 표현 data의 위치\n",
    "# plt.scatter( x = sz_pclass, y = sz_fare, alpha = alpha_val )\n",
    "# plt.xlabel( 'Pclass' ); plt.ylabel( 'Fare' ); plt.title( 'Pclass-Fare (Embarked 0)' )\n",
    "\n",
    "# sz_pclass = df[ 'Pclass' ][ df[ 'Embarked' ] == 1 ]\n",
    "# sz_fare = df[ 'Fare' ][ df[ 'Embarked' ] == 1 ]\n",
    "# ax_pclass_n_fare = plt.subplot2grid( (1,3), (0,1) )    # 표현 data의 위치\n",
    "# plt.scatter( x = sz_pclass, y = sz_fare, alpha = alpha_val )\n",
    "# plt.xlabel( 'Pclass' ); plt.ylabel( 'Fare' ); plt.title( 'Pclass-Fare (Embarked 1)' )\n",
    "\n",
    "# sz_pclass = df[ 'Pclass' ][ df[ 'Embarked' ] == 2 ]\n",
    "# sz_fare = df[ 'Fare' ][ df[ 'Embarked' ] == 2 ]\n",
    "# ax_pclass_n_fare = plt.subplot2grid( (1,3), (0,2) )    # 표현 data의 위치\n",
    "# plt.scatter( x = sz_pclass, y = sz_fare, alpha = alpha_val )\n",
    "# plt.xlabel( 'Pclass' ); plt.ylabel( 'Fare' ); plt.title( 'Pclass-Fare (Embarked 2)' )\n",
    "# # df.head()"
   ]
  },
  {
   "cell_type": "markdown",
   "metadata": {},
   "source": [
    "하여튼, 1등급이 비싸다 (자세한 계산은 Fare와 Sibsp, Parch의 sum으로 나눈후 판단해야 한다)"
   ]
  },
  {
   "cell_type": "code",
   "execution_count": 1407,
   "metadata": {
    "collapsed": false
   },
   "outputs": [],
   "source": [
    "# test set내 1개 fare값을 보완하기 위한 \n",
    "mean_fare_train = df[ 'Fare' ][ ( df[ 'Pclass' ] == 3 ) & ( df[ 'Embarked' ] == 0 ) &\n",
    "                                ( df[ 'SibSp' ] == 0 ) & ( df[ 'Parch' ] == 0 ) ].mean()\n",
    "mean_fare_test = df_test[ 'Fare' ][ ( df_test[ 'Pclass' ] == 3 ) & ( df_test[ 'Embarked' ] == 0 ) &\n",
    "                                    ( df_test[ 'SibSp' ] == 0 ) & ( df_test[ 'Parch' ] == 0 ) ].mean()\n",
    "mean_fare = (mean_fare_train + mean_fare_test)/2.0\n",
    "idx = df_test[ df_test[ 'Fare' ].isnull() ].index.tolist()    # Fare == NaN인 dataset의 idx 정보\n",
    "df_test.loc[ idx, 'Fare' ] = mean_fare    # 결측값 보완"
   ]
  },
  {
   "cell_type": "code",
   "execution_count": 1408,
   "metadata": {
    "collapsed": false
   },
   "outputs": [],
   "source": [
    "# df_test.count()"
   ]
  },
  {
   "cell_type": "markdown",
   "metadata": {},
   "source": [
    "###Age 누락값 처리\n",
    "* 1건의 Fare 누락분은 채워넣었고, Age를 처리해야 한다. 추측컨데, 좌석등급 혹은 Embarked와 관련성 있는지 확인해본다."
   ]
  },
  {
   "cell_type": "code",
   "execution_count": 1409,
   "metadata": {
    "collapsed": false
   },
   "outputs": [],
   "source": [
    "# # df_test[ df_test[ 'Age' ].isnull() ]\n",
    "# fig_pclass_n_age = plt.figure( figsize = (15,9) )    # fig size 정의\n",
    "\n",
    "# ax_pclass_n_age = plt.subplot2grid( (2,3), (0,0) )    # 표현 data의 위치\n",
    "# plt.scatter( x = df[ 'Age' ], y = df[ 'Pclass' ], alpha = alpha_val )\n",
    "# plt.xlabel( 'Age' ); plt.ylabel( 'Pclass' ); plt.title( 'Age-Pclass' )\n",
    "\n",
    "# ax_pclass_n_age = plt.subplot2grid( (2,3), (0,1) )    # 표현 data의 위치\n",
    "# plt.scatter( x = df[ 'Age' ], y = df[ 'Sex' ], alpha = alpha_val )\n",
    "# plt.xlabel( 'Age' ); plt.ylabel( 'Sex' ); plt.title( 'Age-Sex' )\n",
    "\n",
    "# ax_pclass_n_age = plt.subplot2grid( (2,3), (0,2) )    # 표현 data의 위치\n",
    "# plt.scatter( x = df[ 'Age' ], y = df[ 'SibSp' ], alpha = alpha_val )\n",
    "# plt.xlabel( 'Age' ); plt.ylabel( 'SibSp' ); plt.title( 'Age-SibSp' )\n",
    "\n",
    "# ax_pclass_n_age = plt.subplot2grid( (2,3), (1,0) )    # 표현 data의 위치\n",
    "# plt.scatter( x = df[ 'Age' ], y = df[ 'Parch' ], alpha = alpha_val )\n",
    "# plt.xlabel( 'Age' ); plt.ylabel( 'Parch' ); plt.title( 'Age-Parch' )\n",
    "\n",
    "# ax_pclass_n_age = plt.subplot2grid( (2,3), (1,1) )    # 표현 data의 위치\n",
    "# plt.scatter( x = df[ 'Age' ], y = df[ 'Embarked' ], alpha = alpha_val )\n",
    "# plt.xlabel( 'Age' ); plt.ylabel( 'Embarked' ); plt.title( 'Age-Embarked' )\n",
    "\n",
    "# # df[ 'tmp' ] = df[ 'Fare' ]/( df[ 'SibSp' ] + df[ 'Parch' ] + 1 )\n",
    "# ax_pclass_n_age = plt.subplot2grid( (2,3), (1,2) )    # 표현 data의 위치\n",
    "# plt.scatter( x = df[ 'Fare' ]/( df[ 'SibSp' ] + df[ 'Parch' ] + 1 ), y = df[ 'Survived' ], alpha = alpha_val )\n",
    "# plt.xlabel( 'Fare' ); plt.ylabel( 'Survived' ); plt.title( 'Fare-Survived' )"
   ]
  },
  {
   "cell_type": "markdown",
   "metadata": {},
   "source": [
    "* 단언은 곤란하나, 연령대가 높아짐에 따라 좌석등급은 높아지는 정도가 확인된다. 하지만, 60대 3등급은 희박하고, 10대 1등급도 희박하다.\n",
    "* 나이분포의 특이성은 SibSp와 관련성이 있어 보이므로, SibSp별 mean Age를 확보하여 누락 Age에 채우도록 한다.\n",
    "* 하지만, 각 좌석등급별 평균나이를 채우려면 귀찮으니, 전체 평균을 누락된 Age에 채우도록 한다.\n",
    "* Fare 비용이 높은 경우, 생존률이 높아보인다"
   ]
  },
  {
   "cell_type": "code",
   "execution_count": 1410,
   "metadata": {
    "collapsed": true
   },
   "outputs": [],
   "source": [
    "df[ 'Fare' ] = df[ 'Fare' ]/( df[ 'SibSp' ] + df[ 'Parch' ] + 1 )    # 인당 Fare로 변환하여 사용한다.\n",
    "df_test[ 'Fare' ] = df_test[ 'Fare' ]/( df_test[ 'SibSp' ] + df_test[ 'Parch' ] + 1 )    # 인당 Fare로 변환하여 사용한다."
   ]
  },
  {
   "cell_type": "code",
   "execution_count": 1411,
   "metadata": {
    "collapsed": false
   },
   "outputs": [],
   "source": [
    "# df_test[ df_test[ 'Age' ].isnull() ]\n",
    "# mean_age_sub0 = ( df[ 'Age' ][ df[ 'SibSp' ] == 0 ].mean() + df_test[ 'Age' ][ df_test[ 'SibSp' ] == 0 ].mean() )/2.0\n",
    "# mean_age_sub1 = ( df[ 'Age' ][ df[ 'SibSp' ] == 1 ].mean() + df_test[ 'Age' ][ df_test[ 'SibSp' ] == 1 ].mean() )/2.0\n",
    "# mean_age_sub2 = ( df[ 'Age' ][ df[ 'SibSp' ] == 2 ].mean() + df_test[ 'Age' ][ df_test[ 'SibSp' ] == 2 ].mean() )/2.0\n",
    "# mean_age_sub3 = ( df[ 'Age' ][ df[ 'SibSp' ] == 3 ].mean() + df_test[ 'Age' ][ df_test[ 'SibSp' ] == 3 ].mean() )/2.0\n",
    "# mean_age_sub4 = ( df[ 'Age' ][ df[ 'SibSp' ] == 4 ].mean() + df_test[ 'Age' ][ df_test[ 'SibSp' ] == 4 ].mean() )/2.0\n",
    "# mean_age_sub5 = ( df[ 'Age' ][ df[ 'SibSp' ] == 5 ].mean() + df_test[ 'Age' ][ df_test[ 'SibSp' ] == 5 ].mean() )/2.0\n",
    "# mean_age_sub8 = df_test[ 'Age' ][ df_test[ 'SibSp' ] == 8 ].mean()\n",
    "\n",
    "# mean_age_sub0, mean_age_sub1, mean_age_sub2, mean_age_sub3, mean_age_sub4, mean_age_sub5, mean_age_sub8    # SibSp별 평균Age\n",
    "# print df_test.count()"
   ]
  },
  {
   "cell_type": "code",
   "execution_count": 1412,
   "metadata": {
    "collapsed": false
   },
   "outputs": [],
   "source": [
    "# print( df_test.count() )\n",
    "# Case 1 : 그냥 mean값\n",
    "df_test[ 'Age' ].fillna( value = df_test[ 'Age' ].mean(), inplace = True )    # 누락된 Age에 평균 mean값 부여\n",
    "# Case 2 : 복잡하게\n",
    "# idx_list = df_test[ ( df_test[ 'Age' ].isnull() ) & ( df_test[ 'SibSp' ] == 0 ) ].index.tolist()\n",
    "# for idx in idx_list :    # row에 대한 강제 setting\n",
    "#     df_test.loc[ idx, 'Age' ] = mean_age_sub0\n",
    "\n",
    "# idx_list = df_test[ ( df_test[ 'Age' ].isnull() ) & ( df_test[ 'SibSp' ] == 1 ) ].index.tolist()\n",
    "# for idx in idx_list :    # row에 대한 강제 setting\n",
    "#     df_test.loc[ idx, 'Age' ] = mean_age_sub1\n",
    "    \n",
    "# idx_list = df_test[ ( df_test[ 'Age' ].isnull() ) & ( df_test[ 'SibSp' ] == 2 ) ].index.tolist()\n",
    "# for idx in idx_list :    # row에 대한 강제 setting\n",
    "#     df_test.loc[ idx, 'Age' ] = mean_age_sub2\n",
    "    \n",
    "# idx_list = df_test[ ( df_test[ 'Age' ].isnull() ) & ( df_test[ 'SibSp' ] == 3 ) ].index.tolist()\n",
    "# for idx in idx_list :    # row에 대한 강제 setting\n",
    "#     df_test.loc[ idx, 'Age' ] = mean_age_sub3\n",
    "    \n",
    "# idx_list = df_test[ ( df_test[ 'Age' ].isnull() ) & ( df_test[ 'SibSp' ] == 4 ) ].index.tolist()\n",
    "# for idx in idx_list :    # row에 대한 강제 setting\n",
    "#     df_test.loc[ idx, 'Age' ] = mean_age_sub4\n",
    "    \n",
    "# idx_list = df_test[ ( df_test[ 'Age' ].isnull() ) & ( df_test[ 'SibSp' ] == 5 ) ].index.tolist()\n",
    "# for idx in idx_list :    # row에 대한 강제 setting\n",
    "#     df_test.loc[ idx, 'Age' ] = mean_age_sub5\n",
    "\n",
    "# idx_list = df_test[ ( df_test[ 'Age' ].isnull() ) & ( df_test[ 'SibSp' ] == 8 ) ].index.tolist()\n",
    "# for idx in idx_list :    # row에 대한 강제 setting\n",
    "#     df_test.loc[ idx, 'Age' ] = mean_age_sub8\n",
    "    \n",
    "# print( df_test.count() )\n",
    "# df_test[ df_test[ 'Age' ].isnull() ]"
   ]
  },
  {
   "cell_type": "markdown",
   "metadata": {},
   "source": [
    "Train, Test data의 SibSp, Parch가 존재하는 경우, SibSp를 가족승객 여부로 활용한다"
   ]
  },
  {
   "cell_type": "code",
   "execution_count": 1413,
   "metadata": {
    "collapsed": false
   },
   "outputs": [],
   "source": [
    "# print( df.count() )\n",
    "# idx_list = df[ df[ 'SibSp' ] > 0 ].index.tolist()\n",
    "\n",
    "# for idx in idx_list :    # row에 대한 강제 setting\n",
    "#     df.loc[ idx, 'SibSp' ] = 1    # 가족승객이라는 의미로 활용\n",
    "    \n",
    "# idx_list = df[ df[ 'Parch' ] > 0 ].index.tolist()\n",
    "\n",
    "# for idx in idx_list :    # row에 대한 강제 setting\n",
    "#     df.loc[ idx, 'Parch' ] = 1    # 가족승객이라는 의미로 활용    \n",
    "    \n",
    "    \n",
    "# idx_list = df_test[ df_test[ 'SibSp' ] > 0 ].index.tolist()\n",
    "\n",
    "# for idx in idx_list :    # row에 대한 강제 setting\n",
    "#     df_test.loc[ idx, 'SibSp' ] = 1    # 가족승객이라는 의미로 활용   \n",
    "    \n",
    "# idx_list = df_test[ df_test[ 'Parch' ] > 0 ].index.tolist()\n",
    "\n",
    "# for idx in idx_list :    # row에 대한 강제 setting\n",
    "#     df_test.loc[ idx, 'Parch' ] = 1    # 가족승객이라는 의미로 활용       \n",
    "\n",
    "    \n",
    "# idx_list = df[ ( df[ 'Age' ].isnull() ) & ( df[ 'SibSp' ] == 1 ) ].index.tolist()\n",
    "# for idx in idx_list :    # row에 대한 강제 setting\n",
    "#     df.loc[ idx, 'Age' ] = mean_age_sub1\n",
    "    \n",
    "# idx_list = df[ ( df[ 'Age' ].isnull() ) & ( df[ 'SibSp' ] == 2 ) ].index.tolist()\n",
    "# for idx in idx_list :    # row에 대한 강제 setting\n",
    "#     df.loc[ idx, 'Age' ] = mean_age_sub2\n",
    "    \n",
    "# idx_list = df[ ( df[ 'Age' ].isnull() ) & ( df[ 'SibSp' ] == 3 ) ].index.tolist()\n",
    "# for idx in idx_list :    # row에 대한 강제 setting\n",
    "#     df.loc[ idx, 'Age' ] = mean_age_sub3\n",
    "    \n",
    "# idx_list = df[ ( df[ 'Age' ].isnull() ) & ( df[ 'SibSp' ] == 4 ) ].index.tolist()\n",
    "# for idx in idx_list :    # row에 대한 강제 setting\n",
    "#     df.loc[ idx, 'Age' ] = mean_age_sub4\n",
    "    \n",
    "# idx_list = df[ ( df[ 'Age' ].isnull() ) & ( df[ 'SibSp' ] == 5 ) ].index.tolist()\n",
    "# for idx in idx_list :    # row에 대한 강제 setting\n",
    "#     df.loc[ idx, 'Age' ] = mean_age_sub5\n",
    "\n",
    "# idx_list = df[ ( df[ 'Age' ].isnull() ) & ( df[ 'SibSp' ] == 8 ) ].index.tolist()\n",
    "# for idx in idx_list :    # row에 대한 강제 setting\n",
    "#     df.loc[ idx, 'Age' ] = mean_age_sub8\n",
    "    \n",
    "# print df.count()\n",
    "# df[ df[ 'Age' ].isnull() ]"
   ]
  },
  {
   "cell_type": "markdown",
   "metadata": {},
   "source": [
    "###<font color='blue'>Test dataset에 대한 누락분은 모두 해결했다</font>"
   ]
  },
  {
   "cell_type": "markdown",
   "metadata": {},
   "source": [
    "###Training dataset과 실제 dataset의 구조가 동일한지 확인하는 validation code"
   ]
  },
  {
   "cell_type": "code",
   "execution_count": 1414,
   "metadata": {
    "collapsed": false,
    "scrolled": true
   },
   "outputs": [],
   "source": [
    "# print df[ 'Survived' ].describe()\n",
    "# print df[ 'Pclass' ].describe()\n",
    "# print df[ 'Sex' ].describe()\n",
    "# print df[ 'Age' ].describe()\n",
    "# print df[ 'SibSp' ].describe()\n",
    "# print df[ 'Parch' ].describe()\n",
    "# print df[ 'Fare' ].describe()\n",
    "# print df[ 'Embarked' ].describe()\n",
    "# print '======================'\n",
    "# # print df_test[ 'Survived' ].describe()\n",
    "# print df_test[ 'Pclass' ].describe()\n",
    "# print df_test[ 'Sex' ].describe()\n",
    "# print df_test[ 'Age' ].describe()\n",
    "# print df_test[ 'SibSp' ].describe()\n",
    "# print df_test[ 'Parch' ].describe()\n",
    "# print df_test[ 'Fare' ].describe()\n",
    "# print df_test[ 'Embarked' ].describe()"
   ]
  },
  {
   "cell_type": "markdown",
   "metadata": {},
   "source": [
    "##6. Predict modeling"
   ]
  },
  {
   "cell_type": "markdown",
   "metadata": {},
   "source": [
    "###Training dataset을 X와 y로 분리"
   ]
  },
  {
   "cell_type": "code",
   "execution_count": 1415,
   "metadata": {
    "collapsed": false
   },
   "outputs": [],
   "source": [
    "# print( df.head( 1 ) )\n",
    "# print( df_test.head( 1 ) )\n",
    "# df.head( 5 )"
   ]
  },
  {
   "cell_type": "markdown",
   "metadata": {},
   "source": [
    "##<font color='red'>Training시 사용할 Feature 선별의 Case들</font>"
   ]
  },
  {
   "cell_type": "code",
   "execution_count": 1416,
   "metadata": {
    "collapsed": false
   },
   "outputs": [],
   "source": [
    "list_for_drop = [\n",
    "#                   'Name',\n",
    "#                   'Age',\n",
    "#                   'SibSp',\n",
    "#                   'Parch',\n",
    "#                   'Ticket',\n",
    "#                   'Fare',\n",
    "                  'Cabin',\n",
    "#                   'Embarked'\n",
    "                ]    # training, test 모두에게서 drop features\n",
    "list_for_train = list( list_for_drop )\n",
    "list_for_test = list( list_for_drop )\n",
    "\n",
    "list_for_train.append( 'Survived' )\n",
    "# list_for_test.append( 'Cabin' )\n",
    "\n",
    "X = df.drop( list_for_train, axis = 1 )    # X를 확보\n",
    "y = df[ 'Survived' ]    # y를 확보\n",
    "\n",
    "cv_cnt = 30\n",
    "n_jobs_cnt = 8"
   ]
  },
  {
   "cell_type": "code",
   "execution_count": 1417,
   "metadata": {
    "collapsed": false
   },
   "outputs": [],
   "source": [
    "# X.head( 3 )\n",
    "n_jobs_cnt = 8"
   ]
  },
  {
   "cell_type": "markdown",
   "metadata": {},
   "source": [
    "##0. Decision Tree 수행"
   ]
  },
  {
   "cell_type": "code",
   "execution_count": 1418,
   "metadata": {
    "collapsed": false,
    "scrolled": true
   },
   "outputs": [
    {
     "name": "stdout",
     "output_type": "stream",
     "text": [
      "0.820426487093\n",
      "Wall time: 9.76 s\n"
     ]
    }
   ],
   "source": [
    "%%time\n",
    "from sklearn import cross_validation\n",
    "from sklearn.cross_validation import train_test_split\n",
    "from sklearn import metrics\n",
    "from sklearn.tree import DecisionTreeClassifier\n",
    "from sklearn import grid_search\n",
    "\n",
    "params = {\n",
    "           'criterion' : ('gini','entropy'),\n",
    "           'splitter' : ('best', 'random'),\n",
    "           'max_depth' : (7,10,20),\n",
    "           'min_samples_split' : (2,4,8),\n",
    "           'random_state' : (1,2,3),\n",
    "         }\n",
    "gs = grid_search.GridSearchCV( DecisionTreeClassifier( class_weight = 'auto' ),\n",
    "                               param_grid = params, n_jobs = n_jobs_cnt, cv = cv_cnt,\n",
    "                               \n",
    "                             )    # GridSearch 생성\n",
    "gs.fit( X, y )    # fitting\n",
    "\n",
    "#                   'SibSp',\n",
    "#                   'Parch',\n",
    "#                   'Ticket',\n",
    "#                   'Fare',\n",
    "\n",
    "print( gs.best_score_ )\n",
    "# gs.grid_scores_"
   ]
  },
  {
   "cell_type": "markdown",
   "metadata": {},
   "source": [
    "###1. LinearSVC 수행 : 최적 C값 적용 : cross-validation 활용"
   ]
  },
  {
   "cell_type": "code",
   "execution_count": 1419,
   "metadata": {
    "collapsed": false
   },
   "outputs": [],
   "source": [
    "# from sklearn import svm\n",
    "# from sklearn import cross_validation\n",
    "\n",
    "# params = { 'C' : (0.1, 0.5, 1.0, 1.5, 2.0) }\n",
    "\n",
    "# gs = grid_search.GridSearchCV( svm.LinearSVC(), param_grid = params, n_jobs = n_jobs_cnt, cv = cv_cnt )    # GridSearch 생성\n",
    "# gs.fit( X, y )    # fitting\n",
    "\n",
    "# print( gs.best_score_ )\n",
    "# # gs.grid_scores_"
   ]
  },
  {
   "cell_type": "markdown",
   "metadata": {},
   "source": [
    "###3. KNN 수행 : 최적 neighbor수, weight값 활용"
   ]
  },
  {
   "cell_type": "code",
   "execution_count": 1420,
   "metadata": {
    "collapsed": false,
    "scrolled": true
   },
   "outputs": [],
   "source": [
    "# from sklearn.neighbors import KNeighborsClassifier\n",
    "\n",
    "# params = { 'n_neighbors' : (1, 3, 5, 7, 10), 'weights' : ('uniform', 'distance') }\n",
    "\n",
    "# gs = grid_search.GridSearchCV( KNeighborsClassifier(), param_grid = params, n_jobs = n_jobs_cnt, cv = cv_cnt )    # GridSearch 생성\n",
    "# gs.fit( X, y )    # fitting\n",
    "\n",
    "# print( gs.best_score_ )\n",
    "# # gs.grid_scores_"
   ]
  },
  {
   "cell_type": "markdown",
   "metadata": {},
   "source": [
    "###4. Ensemble 수행 : RandomForestClassifier"
   ]
  },
  {
   "cell_type": "code",
   "execution_count": 1421,
   "metadata": {
    "collapsed": false,
    "scrolled": false
   },
   "outputs": [],
   "source": [
    "# %%time\n",
    "# # 0.841750841751 확보 parameter set grid\n",
    "# from sklearn.ensemble import RandomForestClassifier\n",
    "\n",
    "# params = { \n",
    "#            'n_estimators' : (15,20),\n",
    "#            'criterion' : ('gini','entropy'),\n",
    "# #            'max_features' : ('auto','sqrt',None),\n",
    "#            'max_depth' : (3,5,9,11,None),\n",
    "#            'min_samples_split' : (3,5,7),\n",
    "# #            'min_samples_leaf' : (1,3,5),\n",
    "# #            'min_weight_fraction_leaf' : (0.0,0.3,0.5),\n",
    "#            'bootstrap' : (True, False),\n",
    "#            'random_state' : (1,2,3,4),\n",
    "# #            'warm_start' : (True,False)\n",
    "#          }\n",
    "\n",
    "# gs = grid_search.GridSearchCV( RandomForestClassifier( n_estimators = 100, class_weight = 'auto' ),\n",
    "#                                param_grid = params, n_jobs = n_jobs_cnt, cv = cv_cnt )    # GridSearch 생성\n",
    "# gs.fit( X, y )    # fitting\n",
    "\n",
    "# print( gs.best_score_ )\n",
    "# # gs.grid_scores_"
   ]
  },
  {
   "cell_type": "markdown",
   "metadata": {},
   "source": [
    "###5. LogisticRegression 수행"
   ]
  },
  {
   "cell_type": "code",
   "execution_count": 1422,
   "metadata": {
    "collapsed": false
   },
   "outputs": [],
   "source": [
    "# from sklearn.linear_model import LogisticRegression\n",
    "\n",
    "# params = { 'C' : (.1,.3,.5,.7,1.0) }\n",
    "# gs = grid_search.GridSearchCV( LogisticRegression(), param_grid = params, cv = cv_cnt )    # GridSearch 생성\n",
    "# gs.fit( X, y )    # fitting\n",
    "\n",
    "# print gs.best_score_\n",
    "# # gs.grid_scores_"
   ]
  },
  {
   "cell_type": "markdown",
   "metadata": {},
   "source": [
    "##6. AdaBoostClassifier 수행"
   ]
  },
  {
   "cell_type": "code",
   "execution_count": 1423,
   "metadata": {
    "collapsed": false
   },
   "outputs": [],
   "source": [
    "# from sklearn.ensemble import AdaBoostClassifier\n",
    "\n",
    "# params = { 'n_estimators' : (10,30,50,100) }\n",
    "# gs = grid_search.GridSearchCV( AdaBoostClassifier(), param_grid = params, cv = cv_cnt )    # GridSearch 생성\n",
    "# gs.fit( X, y )    # fitting\n",
    "\n",
    "# print gs.best_score_\n",
    "# # gs.grid_scores_"
   ]
  },
  {
   "cell_type": "markdown",
   "metadata": {},
   "source": [
    "##7. BaggingClassifier 수행"
   ]
  },
  {
   "cell_type": "code",
   "execution_count": 1424,
   "metadata": {
    "collapsed": false,
    "scrolled": false
   },
   "outputs": [],
   "source": [
    "# from sklearn.ensemble import BaggingClassifier\n",
    "\n",
    "# params = { 'n_estimators' : (1,3,5,10,20,30,500), 'max_samples' : (20,30,40) }\n",
    "# gs = grid_search.GridSearchCV( BaggingClassifier(), param_grid = params, cv = cv_cnt )    # GridSearch 생성\n",
    "# gs.fit( X, y )    # fitting\n",
    "\n",
    "# print gs.best_score_\n",
    "# # gs.grid_scores_\n",
    "# # gs"
   ]
  },
  {
   "cell_type": "markdown",
   "metadata": {},
   "source": [
    "###6. 실제 prediction을 수행한다."
   ]
  },
  {
   "cell_type": "code",
   "execution_count": 1425,
   "metadata": {
    "collapsed": false
   },
   "outputs": [],
   "source": [
    "# X.head(1)"
   ]
  },
  {
   "cell_type": "code",
   "execution_count": 1426,
   "metadata": {
    "collapsed": false
   },
   "outputs": [],
   "source": [
    "# df_test.head( 3 )"
   ]
  },
  {
   "cell_type": "code",
   "execution_count": 1427,
   "metadata": {
    "collapsed": false
   },
   "outputs": [],
   "source": [
    "# df_test.drop( [ 'SibSp', 'Parch', 'Embarked' ], axis = 1, inplace = True )\n",
    "# df_test.drop( [ 'SibSp', 'Parch', 'Age' ], axis = 1, inplace = True )\n",
    "df_test.drop( list_for_test, axis = 1, inplace = True )"
   ]
  },
  {
   "cell_type": "code",
   "execution_count": 1428,
   "metadata": {
    "collapsed": false
   },
   "outputs": [
    {
     "data": {
      "text/html": [
       "<div style=\"max-height:1000px;max-width:1500px;overflow:auto;\">\n",
       "<table border=\"1\" class=\"dataframe\">\n",
       "  <thead>\n",
       "    <tr style=\"text-align: right;\">\n",
       "      <th></th>\n",
       "      <th>Pclass</th>\n",
       "      <th>Name</th>\n",
       "      <th>Sex</th>\n",
       "      <th>Age</th>\n",
       "      <th>SibSp</th>\n",
       "      <th>Parch</th>\n",
       "      <th>Ticket</th>\n",
       "      <th>Fare</th>\n",
       "      <th>Embarked</th>\n",
       "    </tr>\n",
       "  </thead>\n",
       "  <tbody>\n",
       "    <tr>\n",
       "      <th>0</th>\n",
       "      <td> 3</td>\n",
       "      <td> 172</td>\n",
       "      <td> 1</td>\n",
       "      <td> 34.5</td>\n",
       "      <td> 0</td>\n",
       "      <td> 0</td>\n",
       "      <td> 152</td>\n",
       "      <td> 7.8292</td>\n",
       "      <td> 1</td>\n",
       "    </tr>\n",
       "  </tbody>\n",
       "</table>\n",
       "</div>"
      ],
      "text/plain": [
       "   Pclass  Name  Sex   Age  SibSp  Parch  Ticket    Fare  Embarked\n",
       "0       3   172    1  34.5      0      0     152  7.8292         1"
      ]
     },
     "execution_count": 1428,
     "metadata": {},
     "output_type": "execute_result"
    }
   ],
   "source": [
    "df_test.head(1)"
   ]
  },
  {
   "cell_type": "code",
   "execution_count": 1429,
   "metadata": {
    "collapsed": false
   },
   "outputs": [],
   "source": [
    "# df_test.head( 1 )\n",
    "# gs.best_estimator_"
   ]
  },
  {
   "cell_type": "code",
   "execution_count": 1430,
   "metadata": {
    "collapsed": false
   },
   "outputs": [],
   "source": [
    "# y_pred = gs.predict( df_test )    # decisionTreeClassifier인 경우 prediction 수행\n",
    "y_pred = gs.best_estimator_.predict( df_test )    # prediction 수행\n",
    "\n",
    "df_result = pd.DataFrame( sz_passender_id, columns = [ 'PassengerId' ] )    # 결과를 새로운 dataframe에 담는다\n",
    "df_result[ 'Survived' ] = y_pred\n",
    "df_result.to_csv( path_or_buf = 'result.csv', sep = ',', index = False )"
   ]
  },
  {
   "cell_type": "code",
   "execution_count": 1431,
   "metadata": {
    "collapsed": false
   },
   "outputs": [],
   "source": [
    "# df = pd.read_csv( './dataset/test.csv' )    # data를 읽어들인다.\n",
    "# df[ 'Survived' ] = y_pred\n",
    "# df.to_csv( path_or_buf = 'check.csv', sep = ',', index = False )\n",
    "# # df_check.head()    # 대략적 내용을 파악한다."
   ]
  },
  {
   "cell_type": "markdown",
   "metadata": {},
   "source": [
    "##<font color='red'>7. prediction 결과를 분석한다 : 과연 training data와 유사한 결과를 보이는지</font>"
   ]
  },
  {
   "cell_type": "markdown",
   "metadata": {},
   "source": [
    "###이제, 각 Feature 측면을 확인해본다."
   ]
  },
  {
   "cell_type": "code",
   "execution_count": 1432,
   "metadata": {
    "collapsed": false
   },
   "outputs": [],
   "source": [
    "# fig_survived_summary = plt.figure( figsize = (15,4) )    # fig size 정의\n",
    "\n",
    "# # Surveved의 기본확인\n",
    "# sz_survived_summary = df[ 'Survived' ].value_counts()    # Survived의 생존여부별로 groupby하여 결과수치를 확인한다.\n",
    "# sz_survived_summary_tweaked = sz_survived_summary.rename( index = { 0 : 'Die', 1 : 'Alive' } )    # index를 가시적으로 변경\n",
    "# ax_survived_summary = plt.subplot2grid( (1,5), (0,0) )    # 표현 data의 위치\n",
    "# sz_survived_summary_tweaked.plot( kind = 'bar', ax = ax_survived_summary, alpha = alpha_val )\n",
    "# plt.xlabel( 'Survived' ); plt.ylabel( 'Count' ); plt.title( 'Survived Count' )\n",
    "# print 'Survived Alive : ', sz_survived_summary.ix[ 1 ], 'Died : ', sz_survived_summary.ix[ 0 ], 'Alive % : ', np.float( sz_survived_summary.ix[1] )/np.float( sz_survived_summary.sum() )\n",
    "\n",
    "# # P Class의 기본확인\n",
    "# sz_pclass_summary = df[ 'Pclass' ].value_counts()    # Pclass를 groupby하여 결과수치를 확인한다.\n",
    "# sz_pclass_summary.rename( index = { 1 : '1st', 2 : '2nd', 3 : '3rd' }, inplace = True )\n",
    "# ax_pclass_summary = plt.subplot2grid( (1,5), (0,1) )    # 표현 data의 위치\n",
    "# sz_pclass_summary.sort_index( ascending = True ).plot( kind = 'bar', ax = ax_pclass_summary, alpha = alpha_val )\n",
    "# plt.xlabel( 'Ticket Class' ); plt.ylabel( 'Count' ); plt.title( 'Ticket Class Count' )\n",
    "# print 'Class 1st : ', sz_pclass_summary.ix[ '1st' ], '2nd : ', sz_pclass_summary.ix[ '2nd' ], '3rd : ', sz_pclass_summary.ix[ '3rd' ]\n",
    "\n",
    "# # Embarked의 기본확인\n",
    "# sz_embarked_summary = df[ 'Embarked' ].value_counts()    # Embarked 정보별로 groupby하여 결과수치를 확인한다.\n",
    "# sz_embarked_summary.rename( index = { 'C' : 'Cherbourg', 'Q' : 'Queenstown', 'S' : 'Southampton' }, inplace = True )\n",
    "# ax_embarked_summary = plt.subplot2grid( (1,5), (0,2) )    # 표현 data의 위치\n",
    "# sz_embarked_summary.plot( kind = 'bar', ax = ax_embarked_summary, alpha = alpha_val )\n",
    "# plt.xlabel( 'Embarked' ); plt.ylabel( 'Count' ); plt.title( 'Embarked Count' )\n",
    "# print 'Embarked Cherbourg : ', sz_embarked_summary.ix[ 'Cherbourg' ], 'Queenstown : ', sz_embarked_summary.ix[ 'Queenstown' ], 'Southampton : ', sz_embarked_summary.ix[ 'Southampton' ]\n",
    "\n",
    "# # Gender의 기본확인\n",
    "# sz_gender_summary = df[ 'Sex' ].value_counts()    # Sex 성별별로 groupby하여 결과수치를 확인한다.\n",
    "# ax_gender_summary = plt.subplot2grid( (1,5), (0,3) )    # 표현 data의 위치\n",
    "# sz_gender_summary.plot( kind = 'bar', ax = ax_gender_summary, alpha = alpha_val )\n",
    "# plt.xlabel( 'Sex' ); plt.ylabel( 'Count' ); plt.title( 'Sex Count' )\n",
    "# print 'Sex male : ', sz_gender_summary.ix[ 'male' ], 'female : ', sz_gender_summary.ix[ 'female' ]\n",
    "\n",
    "# # 연령대의 기본확인\n",
    "# sz_survived = df[ 'Survived' ]\n",
    "# sz_survived_tweaked = sz_survived.replace( to_replace = { 0 : 'Die', 1 : 'Alive' } )\n",
    "# sz_age = df[ 'Age' ]\n",
    "# ax_survived_summary = plt.subplot2grid( (1,5), (0,4) )    # 표현 data의 위치\n",
    "# plt.scatter( x = sz_survived, y = sz_age, alpha = alpha_val )\n",
    "# plt.xlabel( 'Survived, 0 : Die, 1 : Alive' ); plt.ylabel( 'Age' ); plt.title( 'Age by Survived' )"
   ]
  },
  {
   "cell_type": "markdown",
   "metadata": {},
   "source": [
    "##성별에 따른, 생존자수 분석"
   ]
  },
  {
   "cell_type": "code",
   "execution_count": 1433,
   "metadata": {
    "collapsed": false
   },
   "outputs": [],
   "source": [
    "# # 남녀 각각의 생존률을 기반으로 분석한다\n",
    "# fig_sur_prop_by_gen = plt.figure( figsize = (15,7) )    # fig size 정의\n",
    "# # 남자\n",
    "# ax_sur_prop_by_male = plt.subplot2grid( (2,2), (1,0) )    # 표현 data의 위치\n",
    "# sz_survived_male_summary = ( df[ 'Survived' ][ df[ 'Sex' ] == 'male' ] ).value_counts()    # 남자 생존여부 구분\n",
    "# sz_survived_male_summary.rename( index = { 0 : 'Died', 1 : 'Alive' }, inplace = True )\n",
    "# ( sz_survived_male_summary/np.float( df_male[ 'PassengerId' ].size ) ).sort_index( ascending = True ).plot( kind = 'barh', label = 'male', xlim = ([0,0.8]), ax = ax_sur_prop_by_male )\n",
    "# plt.title( 'Survived % : Male' ); plt.legend( loc = 'best' )\n",
    "# print 'Male Alive % : ', ( sz_survived_male_summary/np.float( df_male[ 'PassengerId' ].size ) ).ix[ 'Alive' ]\n",
    "\n",
    "# # 여자\n",
    "# ax_sur_prop_by_female = plt.subplot2grid( (2,2), (1,1) )    # 표현 data의 위치\n",
    "# sz_survived_female_summary = ( df[ 'Survived' ][ df[ 'Sex' ] == 'female' ] ).value_counts()    # 여자 생존여부 구분\n",
    "# sz_survived_female_summary.rename( index = { 0 : 'Died', 1 : 'Alive' }, inplace = True )\n",
    "# ( sz_survived_female_summary/np.float( df_female[ 'PassengerId' ].size ) ).sort_index( ascending = True ).plot( kind = 'barh', label = 'female', xlim = ([0,0.8]), ax = ax_sur_prop_by_female, color = 'red' )\n",
    "# plt.title( 'Survived % : Female' ); plt.legend( loc = 'best' )\n",
    "# print 'Female Alive % : ', ( sz_survived_female_summary/np.float( df_female[ 'PassengerId' ].size ) ).ix[ 'Alive' ]"
   ]
  },
  {
   "cell_type": "markdown",
   "metadata": {},
   "source": [
    "##좌석등급에 따른, 생존률 분석"
   ]
  },
  {
   "cell_type": "code",
   "execution_count": 1434,
   "metadata": {
    "collapsed": false
   },
   "outputs": [],
   "source": [
    "# # 좌석등급 생존자수를 기반으로 분석한다\n",
    "# fig_sur_by_pclass = plt.figure( figsize = (15,4) )    # fig size 정의\n",
    "\n",
    "# # 1등급\n",
    "# sz_survived_pclass1_summary = ( df[ 'Survived' ][ df[ 'Pclass' ] == 1 ] ).value_counts()    # 1등급 좌석 생존 요약\n",
    "# ax_sur_by_class1 = plt.subplot2grid( (1,3), (0,0) )    # 표현 data의 위치\n",
    "# sz_survived_pclass1_summary.rename( index = { 0 : 'Died', 1 : 'Alive' }, inplace = True )\n",
    "# sz_survived_pclass1_summary.sort_index( ascending = True ).plot( kind = 'bar', label = '1st', ylim = ([0,300]), ax = ax_sur_by_class1 )\n",
    "# plt.title( 'Survived : 1st' )\n",
    "# print sz_survived_pclass1_summary\n",
    "\n",
    "# # 2등급\n",
    "# sz_survived_pclass2_summary = ( df[ 'Survived' ][ df[ 'Pclass' ] == 2 ] ).value_counts()    # 2등급 좌석 생존 요약\n",
    "# ax_sur_by_class2 = plt.subplot2grid( (1,3), (0,1) )    # 표현 data의 위치\n",
    "# sz_survived_pclass2_summary.rename( index = { 0 : 'Died', 1 : 'Alive' }, inplace = True )\n",
    "# sz_survived_pclass2_summary.sort_index( ascending = True ).plot( kind = 'bar', label = '2nd', ylim = ([0,300]), ax = ax_sur_by_class2, color = 'pink' )\n",
    "# plt.title( 'Survived : 2nd' )\n",
    "# print sz_survived_pclass2_summary\n",
    "\n",
    "# # 3등급http://localhost:8888/notebooks/15.06.08.01.kaggle.titanic/15.06.12.01.kaggle.Machine%20Learning%20from%20Disaster.ipynb#\n",
    "# sz_survived_pclass3_summary = ( df[ 'Survived' ][ df[ 'Pclass' ] == 3 ] ).value_counts()    # 2등급 좌석 생존 요약\n",
    "# ax_sur_by_class3 = plt.subplot2grid( (1,3), (0,2) )    # 표현 data의 위치\n",
    "# sz_survived_pclass3_summary.rename( index = { 0 : 'Died', 1 : 'Alive' }, inplace = True )\n",
    "# sz_survived_pclass3_summary.sort_index( ascending = True ).plot( kind = 'bar', label = '1st', ylim = ([0,300]), ax = ax_sur_by_class3, color = 'black' )\n",
    "# plt.title( 'Survived : 3rd' )\n",
    "# print sz_survived_pclass3_summary"
   ]
  },
  {
   "cell_type": "markdown",
   "metadata": {},
   "source": [
    "##좌석등급/ 성별구분 분석"
   ]
  },
  {
   "cell_type": "code",
   "execution_count": 1435,
   "metadata": {
    "collapsed": false
   },
   "outputs": [],
   "source": [
    "# # 좌석등급별 성별따른 각각의 생존률을 기반으로 분석한다\n",
    "# fig_pclass1 = plt.figure( figsize = (15,4) )    # fig size 정의\n",
    "\n",
    "# # 1등급, 여자\n",
    "# sz_pclass1_f = df[ 'Survived' ][ ( df[ 'Pclass' ] == 1 ) & ( df[ 'Sex' ] == 'female' ) ]    # 1등급, 여자\n",
    "# sz_pclass1_f_summary = sz_pclass1_f.value_counts()/( np.float( sz_pclass1_f.size ) )    # groupby후 %\n",
    "# sz_pclass1_f_summary\n",
    "# ax_pclass1_f = plt.subplot2grid( (1,6), (0,0) )    # 표현 data의 위치\n",
    "# sz_pclass1_f_summary.rename( index = { 0 : 'Died', 1 : 'Alive' }, inplace = True )\n",
    "# sz_pclass1_f_summary.sort_index( ascending = True ).plot( kind = 'bar', label = '1st w/ female', ylim = ([0,1]), ax = ax_pclass1_f, color = 'red' )\n",
    "# plt.title( '1st Female' )\n",
    "# try :\n",
    "#     print '1st Female : ', sz_pclass1_f_summary.ix[ 'Alive' ]\n",
    "# except :\n",
    "#     print '0'\n",
    "\n",
    "# # 1등급, 남자\n",
    "# sz_pclass1_m = df[ 'Survived' ][ ( df[ 'Pclass' ] == 1 ) & ( df[ 'Sex' ] == 'male' ) ]    # 1등급, 남자\n",
    "# sz_pclass1_m_summary = sz_pclass1_m.value_counts()/( np.float( sz_pclass1_m.size ) )    # groupby후 %\n",
    "# ax_pclass1_m = plt.subplot2grid( (1,6), (0,1) )    # 표현 data의 위치\n",
    "# sz_pclass1_m_summary.rename( index = { 0 : 'Died', 1 : 'Alive' }, inplace = True )\n",
    "# sz_pclass1_m_summary.sort_index( ascending = True ).plot( kind = 'bar', label = '1st w/ male', ylim = ([0,1]), ax = ax_pclass1_m )\n",
    "# plt.title( '1st male' )\n",
    "# sz_pclass1_m_summary\n",
    "# try :\n",
    "#     print '1st Male : ', sz_pclass1_m_summary.ix[ 'Alive' ]\n",
    "# except :\n",
    "#     print '0'\n",
    "\n",
    "# # 2등급, 여자\n",
    "# sz_pclass2_f = df[ 'Survived' ][ ( df[ 'Pclass' ] == 2 ) & ( df[ 'Sex' ] == 'female' ) ]    # 2등급, 여자\n",
    "# sz_pclass2_f_summary = sz_pclass2_f.value_counts()/( np.float( sz_pclass2_f.size ) )    # groupby후 %\n",
    "# sz_pclass2_f_summary\n",
    "# sz_pclass2_f = plt.subplot2grid( (1,6), (0,2) )    # 표현 data의 위치\n",
    "# sz_pclass2_f_summary.rename( index = { 0 : 'Died', 1 : 'Alive' }, inplace = True )\n",
    "# sz_pclass2_f_summary.sort_index( ascending = True ).plot( kind = 'bar', label = '2nd w/ female', ylim = ([0,1]), ax = sz_pclass2_f, color = 'red' )\n",
    "# plt.title( '2nd Female' )\n",
    "# try :\n",
    "#     print '2nd Female : ', sz_pclass2_f_summary.ix[ 'Alive' ]\n",
    "# except :\n",
    "#     print '0'\n",
    "\n",
    "# # 2등급, 남자\n",
    "# sz_pclass2_m = df[ 'Survived' ][ ( df[ 'Pclass' ] == 2 ) & ( df[ 'Sex' ] == 'male' ) ]    # 2등급, 남자\n",
    "# sz_pclass2_m_summary = sz_pclass2_m.value_counts()/( np.float( sz_pclass2_m.size ) )    # groupby후 %\n",
    "# ax_pclass2_m = plt.subplot2grid( (1,6), (0,3) )    # 표현 data의 위치\n",
    "# sz_pclass2_m_summary.rename( index = { 0 : 'Died', 1 : 'Alive' }, inplace = True )\n",
    "# sz_pclass2_m_summary.sort_index( ascending = True ).plot( kind = 'bar', label = '2nd w/ male', ylim = ([0,1]), ax = ax_pclass2_m )\n",
    "# plt.title( '2nd male' )\n",
    "# try :\n",
    "#     print '2nd Male : ', sz_pclass2_m_summary.ix[ 'Alive' ]\n",
    "# except :\n",
    "#     print '0'\n",
    "\n",
    "# # 3등급, 여자\n",
    "# sz_pclass3_f = df[ 'Survived' ][ ( df[ 'Pclass' ] == 3 ) & ( df[ 'Sex' ] == 'female' ) ]    # 3등급, 여자\n",
    "# sz_pclass3_f_summary = sz_pclass3_f.value_counts()/( np.float( sz_pclass3_f.size ) )    # groupby후 %\n",
    "# sz_pclass3_f_summary\n",
    "# sz_pclass3_f = plt.subplot2grid( (1,6), (0,4) )    # 표현 data의 위치\n",
    "# sz_pclass3_f_summary.rename( index = { 0 : 'Died', 1 : 'Alive' }, inplace = True )\n",
    "# sz_pclass3_f_summary.sort_index( ascending = True ).plot( kind = 'bar', label = '3rd w/ female', ylim = ([0,1]), ax = sz_pclass3_f, color = 'red' )\n",
    "# plt.title( '3rd Female' )\n",
    "# try :\n",
    "#     print '3rd Female : ', sz_pclass3_f_summary.ix[ 'Alive' ]\n",
    "# except :\n",
    "#     print '0'\n",
    "\n",
    "# # 3등급, 남자\n",
    "# sz_pclass3_m = df[ 'Survived' ][ ( df[ 'Pclass' ] == 3 ) & ( df[ 'Sex' ] == 'male' ) ]    # 3등급, 남자\n",
    "# sz_pclass3_m_summary = sz_pclass3_m.value_counts()/( np.float( sz_pclass3_m.size ) )    # groupby후 %\n",
    "# ax_pclass3_m = plt.subplot2grid( (1,6), (0,5) )    # 표현 data의 위치\n",
    "# sz_pclass3_m_summary.rename( index = { 0 : 'Died', 1 : 'Alive' }, inplace = True )\n",
    "# sz_pclass3_m_summary.sort_index( ascending = True ).plot( kind = 'bar', label = '2nd w/ male', ylim = ([0,1]), ax = ax_pclass3_m )\n",
    "# plt.title( '3rd male' )\n",
    "# try :\n",
    "#     print '3rd Male : ', sz_pclass3_m_summary.ix[ 'Alive' ]\n",
    "# except :\n",
    "#     print '0'"
   ]
  }
 ],
 "metadata": {
  "kernelspec": {
   "display_name": "Python 3",
   "language": "python",
   "name": "python3"
  },
  "language_info": {
   "codemirror_mode": {
    "name": "ipython",
    "version": 3
   },
   "file_extension": ".py",
   "mimetype": "text/x-python",
   "name": "python",
   "nbconvert_exporter": "python",
   "pygments_lexer": "ipython3",
   "version": "3.4.3"
  }
 },
 "nbformat": 4,
 "nbformat_minor": 0
}
